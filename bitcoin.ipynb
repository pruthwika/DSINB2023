{
 "cells": [
  {
   "cell_type": "code",
   "execution_count": 1,
   "id": "0ec7ec48",
   "metadata": {},
   "outputs": [],
   "source": [
    "import numpy as np\n",
    "import pandas as pd\n",
    "import matplotlib.pyplot as plt\n",
    "import seaborn as sns\n"
   ]
  },
  {
   "cell_type": "code",
   "execution_count": 2,
   "id": "5b13c8e4",
   "metadata": {},
   "outputs": [
    {
     "data": {
      "text/html": [
       "<div>\n",
       "<style scoped>\n",
       "    .dataframe tbody tr th:only-of-type {\n",
       "        vertical-align: middle;\n",
       "    }\n",
       "\n",
       "    .dataframe tbody tr th {\n",
       "        vertical-align: top;\n",
       "    }\n",
       "\n",
       "    .dataframe thead th {\n",
       "        text-align: right;\n",
       "    }\n",
       "</style>\n",
       "<table border=\"1\" class=\"dataframe\">\n",
       "  <thead>\n",
       "    <tr style=\"text-align: right;\">\n",
       "      <th></th>\n",
       "      <th>unix</th>\n",
       "      <th>date</th>\n",
       "      <th>symbol</th>\n",
       "      <th>open</th>\n",
       "      <th>high</th>\n",
       "      <th>low</th>\n",
       "      <th>close</th>\n",
       "      <th>Volume BTC</th>\n",
       "      <th>Volume USD</th>\n",
       "    </tr>\n",
       "  </thead>\n",
       "  <tbody>\n",
       "    <tr>\n",
       "      <th>0</th>\n",
       "      <td>1646106180</td>\n",
       "      <td>2022-03-01 03:43:00</td>\n",
       "      <td>BTC/USD</td>\n",
       "      <td>43046.58</td>\n",
       "      <td>43046.58</td>\n",
       "      <td>43046.58</td>\n",
       "      <td>43046.58</td>\n",
       "      <td>0.000000</td>\n",
       "      <td>0.000000</td>\n",
       "    </tr>\n",
       "    <tr>\n",
       "      <th>1</th>\n",
       "      <td>1646106060</td>\n",
       "      <td>2022-03-01 03:41:00</td>\n",
       "      <td>BTC/USD</td>\n",
       "      <td>43018.23</td>\n",
       "      <td>43046.59</td>\n",
       "      <td>43018.23</td>\n",
       "      <td>43046.58</td>\n",
       "      <td>0.142977</td>\n",
       "      <td>6154.673021</td>\n",
       "    </tr>\n",
       "    <tr>\n",
       "      <th>2</th>\n",
       "      <td>1646106000</td>\n",
       "      <td>2022-03-01 03:40:00</td>\n",
       "      <td>BTC/USD</td>\n",
       "      <td>43022.24</td>\n",
       "      <td>43022.24</td>\n",
       "      <td>43016.03</td>\n",
       "      <td>43016.03</td>\n",
       "      <td>0.009230</td>\n",
       "      <td>397.037957</td>\n",
       "    </tr>\n",
       "    <tr>\n",
       "      <th>3</th>\n",
       "      <td>1646105940</td>\n",
       "      <td>2022-03-01 03:39:00</td>\n",
       "      <td>BTC/USD</td>\n",
       "      <td>43035.16</td>\n",
       "      <td>43035.16</td>\n",
       "      <td>42999.44</td>\n",
       "      <td>42999.44</td>\n",
       "      <td>0.820950</td>\n",
       "      <td>35300.390268</td>\n",
       "    </tr>\n",
       "    <tr>\n",
       "      <th>4</th>\n",
       "      <td>1646105880</td>\n",
       "      <td>2022-03-01 03:38:00</td>\n",
       "      <td>BTC/USD</td>\n",
       "      <td>43077.82</td>\n",
       "      <td>43077.82</td>\n",
       "      <td>43049.46</td>\n",
       "      <td>43049.46</td>\n",
       "      <td>0.022210</td>\n",
       "      <td>956.143143</td>\n",
       "    </tr>\n",
       "    <tr>\n",
       "      <th>...</th>\n",
       "      <td>...</td>\n",
       "      <td>...</td>\n",
       "      <td>...</td>\n",
       "      <td>...</td>\n",
       "      <td>...</td>\n",
       "      <td>...</td>\n",
       "      <td>...</td>\n",
       "      <td>...</td>\n",
       "      <td>...</td>\n",
       "    </tr>\n",
       "    <tr>\n",
       "      <th>610777</th>\n",
       "      <td>1609459500</td>\n",
       "      <td>2021-01-01 00:05:00</td>\n",
       "      <td>BTC/USD</td>\n",
       "      <td>29021.86</td>\n",
       "      <td>29023.38</td>\n",
       "      <td>28982.33</td>\n",
       "      <td>28999.50</td>\n",
       "      <td>1.062360</td>\n",
       "      <td>30807.899250</td>\n",
       "    </tr>\n",
       "    <tr>\n",
       "      <th>610778</th>\n",
       "      <td>1609459440</td>\n",
       "      <td>2021-01-01 00:04:00</td>\n",
       "      <td>BTC/USD</td>\n",
       "      <td>29048.13</td>\n",
       "      <td>29057.73</td>\n",
       "      <td>29035.61</td>\n",
       "      <td>29045.19</td>\n",
       "      <td>1.446538</td>\n",
       "      <td>42014.959434</td>\n",
       "    </tr>\n",
       "    <tr>\n",
       "      <th>610779</th>\n",
       "      <td>1609459380</td>\n",
       "      <td>2021-01-01 00:03:00</td>\n",
       "      <td>BTC/USD</td>\n",
       "      <td>29037.68</td>\n",
       "      <td>29069.39</td>\n",
       "      <td>29019.00</td>\n",
       "      <td>29048.13</td>\n",
       "      <td>2.189621</td>\n",
       "      <td>63604.382387</td>\n",
       "    </tr>\n",
       "    <tr>\n",
       "      <th>610780</th>\n",
       "      <td>1609459320</td>\n",
       "      <td>2021-01-01 00:02:00</td>\n",
       "      <td>BTC/USD</td>\n",
       "      <td>29069.80</td>\n",
       "      <td>29073.02</td>\n",
       "      <td>29028.14</td>\n",
       "      <td>29035.89</td>\n",
       "      <td>3.030301</td>\n",
       "      <td>87987.499279</td>\n",
       "    </tr>\n",
       "    <tr>\n",
       "      <th>610781</th>\n",
       "      <td>1609459260</td>\n",
       "      <td>2021-01-01 00:01:00</td>\n",
       "      <td>BTC/USD</td>\n",
       "      <td>29007.31</td>\n",
       "      <td>29086.90</td>\n",
       "      <td>29007.31</td>\n",
       "      <td>29083.47</td>\n",
       "      <td>14.561951</td>\n",
       "      <td>423512.060397</td>\n",
       "    </tr>\n",
       "  </tbody>\n",
       "</table>\n",
       "<p>610782 rows × 9 columns</p>\n",
       "</div>"
      ],
      "text/plain": [
       "              unix                 date   symbol      open      high  \\\n",
       "0       1646106180  2022-03-01 03:43:00  BTC/USD  43046.58  43046.58   \n",
       "1       1646106060  2022-03-01 03:41:00  BTC/USD  43018.23  43046.59   \n",
       "2       1646106000  2022-03-01 03:40:00  BTC/USD  43022.24  43022.24   \n",
       "3       1646105940  2022-03-01 03:39:00  BTC/USD  43035.16  43035.16   \n",
       "4       1646105880  2022-03-01 03:38:00  BTC/USD  43077.82  43077.82   \n",
       "...            ...                  ...      ...       ...       ...   \n",
       "610777  1609459500  2021-01-01 00:05:00  BTC/USD  29021.86  29023.38   \n",
       "610778  1609459440  2021-01-01 00:04:00  BTC/USD  29048.13  29057.73   \n",
       "610779  1609459380  2021-01-01 00:03:00  BTC/USD  29037.68  29069.39   \n",
       "610780  1609459320  2021-01-01 00:02:00  BTC/USD  29069.80  29073.02   \n",
       "610781  1609459260  2021-01-01 00:01:00  BTC/USD  29007.31  29086.90   \n",
       "\n",
       "             low     close  Volume BTC     Volume USD  \n",
       "0       43046.58  43046.58    0.000000       0.000000  \n",
       "1       43018.23  43046.58    0.142977    6154.673021  \n",
       "2       43016.03  43016.03    0.009230     397.037957  \n",
       "3       42999.44  42999.44    0.820950   35300.390268  \n",
       "4       43049.46  43049.46    0.022210     956.143143  \n",
       "...          ...       ...         ...            ...  \n",
       "610777  28982.33  28999.50    1.062360   30807.899250  \n",
       "610778  29035.61  29045.19    1.446538   42014.959434  \n",
       "610779  29019.00  29048.13    2.189621   63604.382387  \n",
       "610780  29028.14  29035.89    3.030301   87987.499279  \n",
       "610781  29007.31  29083.47   14.561951  423512.060397  \n",
       "\n",
       "[610782 rows x 9 columns]"
      ]
     },
     "execution_count": 2,
     "metadata": {},
     "output_type": "execute_result"
    }
   ],
   "source": [
    "df=pd.read_csv('BTC-2021min[1].csv')\n",
    "df\n"
   ]
  },
  {
   "cell_type": "code",
   "execution_count": 3,
   "id": "5ae9ab2f",
   "metadata": {},
   "outputs": [
    {
     "data": {
      "text/plain": [
       "(610782, 9)"
      ]
     },
     "execution_count": 3,
     "metadata": {},
     "output_type": "execute_result"
    }
   ],
   "source": [
    "df.shape"
   ]
  },
  {
   "cell_type": "code",
   "execution_count": 4,
   "id": "ae0a45e5",
   "metadata": {},
   "outputs": [
    {
     "data": {
      "text/plain": [
       "5497038"
      ]
     },
     "execution_count": 4,
     "metadata": {},
     "output_type": "execute_result"
    }
   ],
   "source": [
    "df.size"
   ]
  },
  {
   "cell_type": "code",
   "execution_count": 5,
   "id": "eef6df74",
   "metadata": {},
   "outputs": [
    {
     "name": "stdout",
     "output_type": "stream",
     "text": [
      "<class 'pandas.core.frame.DataFrame'>\n",
      "RangeIndex: 610782 entries, 0 to 610781\n",
      "Data columns (total 9 columns):\n",
      " #   Column      Non-Null Count   Dtype  \n",
      "---  ------      --------------   -----  \n",
      " 0   unix        610782 non-null  int64  \n",
      " 1   date        610782 non-null  object \n",
      " 2   symbol      610782 non-null  object \n",
      " 3   open        610782 non-null  float64\n",
      " 4   high        610782 non-null  float64\n",
      " 5   low         610782 non-null  float64\n",
      " 6   close       610782 non-null  float64\n",
      " 7   Volume BTC  610782 non-null  float64\n",
      " 8   Volume USD  610782 non-null  float64\n",
      "dtypes: float64(6), int64(1), object(2)\n",
      "memory usage: 41.9+ MB\n"
     ]
    }
   ],
   "source": [
    "df.info()\n"
   ]
  },
  {
   "cell_type": "code",
   "execution_count": 6,
   "id": "d27b8609",
   "metadata": {},
   "outputs": [
    {
     "data": {
      "text/plain": [
       "unix          0\n",
       "date          0\n",
       "symbol        0\n",
       "open          0\n",
       "high          0\n",
       "low           0\n",
       "close         0\n",
       "Volume BTC    0\n",
       "Volume USD    0\n",
       "dtype: int64"
      ]
     },
     "execution_count": 6,
     "metadata": {},
     "output_type": "execute_result"
    }
   ],
   "source": [
    "df.isnull().sum()\n"
   ]
  },
  {
   "cell_type": "code",
   "execution_count": 7,
   "id": "ba9a798b",
   "metadata": {},
   "outputs": [
    {
     "data": {
      "text/html": [
       "<div>\n",
       "<style scoped>\n",
       "    .dataframe tbody tr th:only-of-type {\n",
       "        vertical-align: middle;\n",
       "    }\n",
       "\n",
       "    .dataframe tbody tr th {\n",
       "        vertical-align: top;\n",
       "    }\n",
       "\n",
       "    .dataframe thead th {\n",
       "        text-align: right;\n",
       "    }\n",
       "</style>\n",
       "<table border=\"1\" class=\"dataframe\">\n",
       "  <thead>\n",
       "    <tr style=\"text-align: right;\">\n",
       "      <th></th>\n",
       "      <th>unix</th>\n",
       "      <th>open</th>\n",
       "      <th>high</th>\n",
       "      <th>low</th>\n",
       "      <th>close</th>\n",
       "      <th>Volume BTC</th>\n",
       "      <th>Volume USD</th>\n",
       "    </tr>\n",
       "  </thead>\n",
       "  <tbody>\n",
       "    <tr>\n",
       "      <th>count</th>\n",
       "      <td>6.107820e+05</td>\n",
       "      <td>610782.000000</td>\n",
       "      <td>610782.000000</td>\n",
       "      <td>610782.000000</td>\n",
       "      <td>610782.000000</td>\n",
       "      <td>610782.000000</td>\n",
       "      <td>6.107820e+05</td>\n",
       "    </tr>\n",
       "    <tr>\n",
       "      <th>mean</th>\n",
       "      <td>1.627783e+09</td>\n",
       "      <td>46482.265381</td>\n",
       "      <td>46509.783597</td>\n",
       "      <td>46454.085712</td>\n",
       "      <td>46482.567211</td>\n",
       "      <td>3.165254</td>\n",
       "      <td>1.389474e+05</td>\n",
       "    </tr>\n",
       "    <tr>\n",
       "      <th>std</th>\n",
       "      <td>1.057906e+07</td>\n",
       "      <td>9453.990285</td>\n",
       "      <td>9454.798088</td>\n",
       "      <td>9453.135638</td>\n",
       "      <td>9454.107853</td>\n",
       "      <td>7.893321</td>\n",
       "      <td>3.298068e+05</td>\n",
       "    </tr>\n",
       "    <tr>\n",
       "      <th>min</th>\n",
       "      <td>1.609459e+09</td>\n",
       "      <td>28093.810000</td>\n",
       "      <td>28397.520000</td>\n",
       "      <td>27734.000000</td>\n",
       "      <td>28073.030000</td>\n",
       "      <td>0.000000</td>\n",
       "      <td>0.000000e+00</td>\n",
       "    </tr>\n",
       "    <tr>\n",
       "      <th>25%</th>\n",
       "      <td>1.618621e+09</td>\n",
       "      <td>38129.052500</td>\n",
       "      <td>38157.882500</td>\n",
       "      <td>38099.437500</td>\n",
       "      <td>38129.137500</td>\n",
       "      <td>0.193192</td>\n",
       "      <td>8.859586e+03</td>\n",
       "    </tr>\n",
       "    <tr>\n",
       "      <th>50%</th>\n",
       "      <td>1.627783e+09</td>\n",
       "      <td>46666.960000</td>\n",
       "      <td>46697.745000</td>\n",
       "      <td>46636.710000</td>\n",
       "      <td>46667.295000</td>\n",
       "      <td>0.924971</td>\n",
       "      <td>4.190121e+04</td>\n",
       "    </tr>\n",
       "    <tr>\n",
       "      <th>75%</th>\n",
       "      <td>1.636944e+09</td>\n",
       "      <td>54907.797500</td>\n",
       "      <td>54938.655000</td>\n",
       "      <td>54877.405000</td>\n",
       "      <td>54907.412500</td>\n",
       "      <td>2.989888</td>\n",
       "      <td>1.349341e+05</td>\n",
       "    </tr>\n",
       "    <tr>\n",
       "      <th>max</th>\n",
       "      <td>1.646106e+09</td>\n",
       "      <td>69000.000000</td>\n",
       "      <td>69000.000000</td>\n",
       "      <td>68799.990000</td>\n",
       "      <td>69000.000000</td>\n",
       "      <td>398.565948</td>\n",
       "      <td>1.396792e+07</td>\n",
       "    </tr>\n",
       "  </tbody>\n",
       "</table>\n",
       "</div>"
      ],
      "text/plain": [
       "               unix           open           high            low  \\\n",
       "count  6.107820e+05  610782.000000  610782.000000  610782.000000   \n",
       "mean   1.627783e+09   46482.265381   46509.783597   46454.085712   \n",
       "std    1.057906e+07    9453.990285    9454.798088    9453.135638   \n",
       "min    1.609459e+09   28093.810000   28397.520000   27734.000000   \n",
       "25%    1.618621e+09   38129.052500   38157.882500   38099.437500   \n",
       "50%    1.627783e+09   46666.960000   46697.745000   46636.710000   \n",
       "75%    1.636944e+09   54907.797500   54938.655000   54877.405000   \n",
       "max    1.646106e+09   69000.000000   69000.000000   68799.990000   \n",
       "\n",
       "               close     Volume BTC    Volume USD  \n",
       "count  610782.000000  610782.000000  6.107820e+05  \n",
       "mean    46482.567211       3.165254  1.389474e+05  \n",
       "std      9454.107853       7.893321  3.298068e+05  \n",
       "min     28073.030000       0.000000  0.000000e+00  \n",
       "25%     38129.137500       0.193192  8.859586e+03  \n",
       "50%     46667.295000       0.924971  4.190121e+04  \n",
       "75%     54907.412500       2.989888  1.349341e+05  \n",
       "max     69000.000000     398.565948  1.396792e+07  "
      ]
     },
     "execution_count": 7,
     "metadata": {},
     "output_type": "execute_result"
    }
   ],
   "source": [
    "df.describe()\n"
   ]
  },
  {
   "cell_type": "code",
   "execution_count": 8,
   "id": "fb94b6c8",
   "metadata": {},
   "outputs": [
    {
     "data": {
      "text/html": [
       "<div>\n",
       "<style scoped>\n",
       "    .dataframe tbody tr th:only-of-type {\n",
       "        vertical-align: middle;\n",
       "    }\n",
       "\n",
       "    .dataframe tbody tr th {\n",
       "        vertical-align: top;\n",
       "    }\n",
       "\n",
       "    .dataframe thead th {\n",
       "        text-align: right;\n",
       "    }\n",
       "</style>\n",
       "<table border=\"1\" class=\"dataframe\">\n",
       "  <thead>\n",
       "    <tr style=\"text-align: right;\">\n",
       "      <th></th>\n",
       "      <th>unix</th>\n",
       "      <th>date</th>\n",
       "      <th>symbol</th>\n",
       "      <th>open</th>\n",
       "      <th>high</th>\n",
       "      <th>low</th>\n",
       "      <th>close</th>\n",
       "      <th>Volume BTC</th>\n",
       "      <th>Volume USD</th>\n",
       "    </tr>\n",
       "  </thead>\n",
       "  <tbody>\n",
       "    <tr>\n",
       "      <th>0</th>\n",
       "      <td>1646106180</td>\n",
       "      <td>2022-03-01 03:43:00</td>\n",
       "      <td>BTC/USD</td>\n",
       "      <td>43046.58</td>\n",
       "      <td>43046.58</td>\n",
       "      <td>43046.58</td>\n",
       "      <td>43046.58</td>\n",
       "      <td>0.000000</td>\n",
       "      <td>0.000000</td>\n",
       "    </tr>\n",
       "    <tr>\n",
       "      <th>1</th>\n",
       "      <td>1646106060</td>\n",
       "      <td>2022-03-01 03:41:00</td>\n",
       "      <td>BTC/USD</td>\n",
       "      <td>43018.23</td>\n",
       "      <td>43046.59</td>\n",
       "      <td>43018.23</td>\n",
       "      <td>43046.58</td>\n",
       "      <td>0.142977</td>\n",
       "      <td>6154.673021</td>\n",
       "    </tr>\n",
       "    <tr>\n",
       "      <th>2</th>\n",
       "      <td>1646106000</td>\n",
       "      <td>2022-03-01 03:40:00</td>\n",
       "      <td>BTC/USD</td>\n",
       "      <td>43022.24</td>\n",
       "      <td>43022.24</td>\n",
       "      <td>43016.03</td>\n",
       "      <td>43016.03</td>\n",
       "      <td>0.009230</td>\n",
       "      <td>397.037957</td>\n",
       "    </tr>\n",
       "    <tr>\n",
       "      <th>3</th>\n",
       "      <td>1646105940</td>\n",
       "      <td>2022-03-01 03:39:00</td>\n",
       "      <td>BTC/USD</td>\n",
       "      <td>43035.16</td>\n",
       "      <td>43035.16</td>\n",
       "      <td>42999.44</td>\n",
       "      <td>42999.44</td>\n",
       "      <td>0.820950</td>\n",
       "      <td>35300.390268</td>\n",
       "    </tr>\n",
       "    <tr>\n",
       "      <th>4</th>\n",
       "      <td>1646105880</td>\n",
       "      <td>2022-03-01 03:38:00</td>\n",
       "      <td>BTC/USD</td>\n",
       "      <td>43077.82</td>\n",
       "      <td>43077.82</td>\n",
       "      <td>43049.46</td>\n",
       "      <td>43049.46</td>\n",
       "      <td>0.022210</td>\n",
       "      <td>956.143143</td>\n",
       "    </tr>\n",
       "  </tbody>\n",
       "</table>\n",
       "</div>"
      ],
      "text/plain": [
       "         unix                 date   symbol      open      high       low  \\\n",
       "0  1646106180  2022-03-01 03:43:00  BTC/USD  43046.58  43046.58  43046.58   \n",
       "1  1646106060  2022-03-01 03:41:00  BTC/USD  43018.23  43046.59  43018.23   \n",
       "2  1646106000  2022-03-01 03:40:00  BTC/USD  43022.24  43022.24  43016.03   \n",
       "3  1646105940  2022-03-01 03:39:00  BTC/USD  43035.16  43035.16  42999.44   \n",
       "4  1646105880  2022-03-01 03:38:00  BTC/USD  43077.82  43077.82  43049.46   \n",
       "\n",
       "      close  Volume BTC    Volume USD  \n",
       "0  43046.58    0.000000      0.000000  \n",
       "1  43046.58    0.142977   6154.673021  \n",
       "2  43016.03    0.009230    397.037957  \n",
       "3  42999.44    0.820950  35300.390268  \n",
       "4  43049.46    0.022210    956.143143  "
      ]
     },
     "execution_count": 8,
     "metadata": {},
     "output_type": "execute_result"
    }
   ],
   "source": [
    "df.head()\n"
   ]
  },
  {
   "cell_type": "code",
   "execution_count": 9,
   "id": "ed066183",
   "metadata": {},
   "outputs": [
    {
     "data": {
      "text/html": [
       "<div>\n",
       "<style scoped>\n",
       "    .dataframe tbody tr th:only-of-type {\n",
       "        vertical-align: middle;\n",
       "    }\n",
       "\n",
       "    .dataframe tbody tr th {\n",
       "        vertical-align: top;\n",
       "    }\n",
       "\n",
       "    .dataframe thead th {\n",
       "        text-align: right;\n",
       "    }\n",
       "</style>\n",
       "<table border=\"1\" class=\"dataframe\">\n",
       "  <thead>\n",
       "    <tr style=\"text-align: right;\">\n",
       "      <th></th>\n",
       "      <th>unix</th>\n",
       "      <th>date</th>\n",
       "      <th>symbol</th>\n",
       "      <th>open</th>\n",
       "      <th>high</th>\n",
       "      <th>low</th>\n",
       "      <th>close</th>\n",
       "      <th>Volume BTC</th>\n",
       "      <th>Volume USD</th>\n",
       "    </tr>\n",
       "  </thead>\n",
       "  <tbody>\n",
       "    <tr>\n",
       "      <th>529288</th>\n",
       "      <td>1614348840</td>\n",
       "      <td>2021-02-26 14:14:00</td>\n",
       "      <td>BTC/USD</td>\n",
       "      <td>46100.00</td>\n",
       "      <td>46236.11</td>\n",
       "      <td>45996.60</td>\n",
       "      <td>46064.52</td>\n",
       "      <td>7.461741</td>\n",
       "      <td>343721.500485</td>\n",
       "    </tr>\n",
       "    <tr>\n",
       "      <th>141032</th>\n",
       "      <td>1637644200</td>\n",
       "      <td>2021-11-23 05:10:00</td>\n",
       "      <td>BTC/USD</td>\n",
       "      <td>56807.86</td>\n",
       "      <td>56807.86</td>\n",
       "      <td>56774.91</td>\n",
       "      <td>56785.62</td>\n",
       "      <td>5.757104</td>\n",
       "      <td>326920.714934</td>\n",
       "    </tr>\n",
       "    <tr>\n",
       "      <th>477084</th>\n",
       "      <td>1617481080</td>\n",
       "      <td>2021-04-03 20:18:00</td>\n",
       "      <td>BTC/USD</td>\n",
       "      <td>58279.96</td>\n",
       "      <td>58297.23</td>\n",
       "      <td>58276.89</td>\n",
       "      <td>58283.31</td>\n",
       "      <td>0.990770</td>\n",
       "      <td>57745.355049</td>\n",
       "    </tr>\n",
       "    <tr>\n",
       "      <th>285366</th>\n",
       "      <td>1628984160</td>\n",
       "      <td>2021-08-14 23:36:00</td>\n",
       "      <td>BTC/USD</td>\n",
       "      <td>47196.70</td>\n",
       "      <td>47199.00</td>\n",
       "      <td>47138.22</td>\n",
       "      <td>47138.22</td>\n",
       "      <td>2.122132</td>\n",
       "      <td>100033.547711</td>\n",
       "    </tr>\n",
       "    <tr>\n",
       "      <th>93619</th>\n",
       "      <td>1640488980</td>\n",
       "      <td>2021-12-26 03:23:00</td>\n",
       "      <td>BTC/USD</td>\n",
       "      <td>49965.82</td>\n",
       "      <td>49976.79</td>\n",
       "      <td>49950.14</td>\n",
       "      <td>49959.35</td>\n",
       "      <td>0.014335</td>\n",
       "      <td>716.181770</td>\n",
       "    </tr>\n",
       "    <tr>\n",
       "      <th>246618</th>\n",
       "      <td>1631309040</td>\n",
       "      <td>2021-09-10 21:24:00</td>\n",
       "      <td>BTC/USD</td>\n",
       "      <td>45060.81</td>\n",
       "      <td>45125.17</td>\n",
       "      <td>45060.81</td>\n",
       "      <td>45109.73</td>\n",
       "      <td>0.050059</td>\n",
       "      <td>2258.142110</td>\n",
       "    </tr>\n",
       "    <tr>\n",
       "      <th>525244</th>\n",
       "      <td>1614591480</td>\n",
       "      <td>2021-03-01 09:38:00</td>\n",
       "      <td>BTC/USD</td>\n",
       "      <td>47289.30</td>\n",
       "      <td>47328.35</td>\n",
       "      <td>47289.30</td>\n",
       "      <td>47290.09</td>\n",
       "      <td>2.878007</td>\n",
       "      <td>136101.228021</td>\n",
       "    </tr>\n",
       "    <tr>\n",
       "      <th>128665</th>\n",
       "      <td>1638386220</td>\n",
       "      <td>2021-12-01 19:17:00</td>\n",
       "      <td>BTC/USD</td>\n",
       "      <td>57034.28</td>\n",
       "      <td>57089.06</td>\n",
       "      <td>57022.11</td>\n",
       "      <td>57050.00</td>\n",
       "      <td>9.652609</td>\n",
       "      <td>550681.320630</td>\n",
       "    </tr>\n",
       "    <tr>\n",
       "      <th>559211</th>\n",
       "      <td>1612553460</td>\n",
       "      <td>2021-02-05 19:31:00</td>\n",
       "      <td>BTC/USD</td>\n",
       "      <td>37578.62</td>\n",
       "      <td>37598.07</td>\n",
       "      <td>37530.35</td>\n",
       "      <td>37530.35</td>\n",
       "      <td>0.794173</td>\n",
       "      <td>29805.607164</td>\n",
       "    </tr>\n",
       "    <tr>\n",
       "      <th>344364</th>\n",
       "      <td>1625444280</td>\n",
       "      <td>2021-07-05 00:18:00</td>\n",
       "      <td>BTC/USD</td>\n",
       "      <td>34978.42</td>\n",
       "      <td>34990.42</td>\n",
       "      <td>34972.66</td>\n",
       "      <td>34972.66</td>\n",
       "      <td>1.484454</td>\n",
       "      <td>51915.299782</td>\n",
       "    </tr>\n",
       "  </tbody>\n",
       "</table>\n",
       "</div>"
      ],
      "text/plain": [
       "              unix                 date   symbol      open      high  \\\n",
       "529288  1614348840  2021-02-26 14:14:00  BTC/USD  46100.00  46236.11   \n",
       "141032  1637644200  2021-11-23 05:10:00  BTC/USD  56807.86  56807.86   \n",
       "477084  1617481080  2021-04-03 20:18:00  BTC/USD  58279.96  58297.23   \n",
       "285366  1628984160  2021-08-14 23:36:00  BTC/USD  47196.70  47199.00   \n",
       "93619   1640488980  2021-12-26 03:23:00  BTC/USD  49965.82  49976.79   \n",
       "246618  1631309040  2021-09-10 21:24:00  BTC/USD  45060.81  45125.17   \n",
       "525244  1614591480  2021-03-01 09:38:00  BTC/USD  47289.30  47328.35   \n",
       "128665  1638386220  2021-12-01 19:17:00  BTC/USD  57034.28  57089.06   \n",
       "559211  1612553460  2021-02-05 19:31:00  BTC/USD  37578.62  37598.07   \n",
       "344364  1625444280  2021-07-05 00:18:00  BTC/USD  34978.42  34990.42   \n",
       "\n",
       "             low     close  Volume BTC     Volume USD  \n",
       "529288  45996.60  46064.52    7.461741  343721.500485  \n",
       "141032  56774.91  56785.62    5.757104  326920.714934  \n",
       "477084  58276.89  58283.31    0.990770   57745.355049  \n",
       "285366  47138.22  47138.22    2.122132  100033.547711  \n",
       "93619   49950.14  49959.35    0.014335     716.181770  \n",
       "246618  45060.81  45109.73    0.050059    2258.142110  \n",
       "525244  47289.30  47290.09    2.878007  136101.228021  \n",
       "128665  57022.11  57050.00    9.652609  550681.320630  \n",
       "559211  37530.35  37530.35    0.794173   29805.607164  \n",
       "344364  34972.66  34972.66    1.484454   51915.299782  "
      ]
     },
     "execution_count": 9,
     "metadata": {},
     "output_type": "execute_result"
    }
   ],
   "source": [
    "df.sample(10)\n"
   ]
  },
  {
   "cell_type": "code",
   "execution_count": 10,
   "id": "29a77ce4",
   "metadata": {},
   "outputs": [],
   "source": [
    "df=df.drop_duplicates()\n"
   ]
  },
  {
   "cell_type": "code",
   "execution_count": 11,
   "id": "03360b4d",
   "metadata": {},
   "outputs": [
    {
     "data": {
      "text/plain": [
       "(610782, 9)"
      ]
     },
     "execution_count": 11,
     "metadata": {},
     "output_type": "execute_result"
    }
   ],
   "source": [
    "df.shape"
   ]
  },
  {
   "cell_type": "code",
   "execution_count": 12,
   "id": "c69be794",
   "metadata": {},
   "outputs": [
    {
     "data": {
      "text/plain": [
       "Index(['unix', 'date', 'symbol', 'open', 'high', 'low', 'close', 'Volume BTC',\n",
       "       'Volume USD'],\n",
       "      dtype='object')"
      ]
     },
     "execution_count": 12,
     "metadata": {},
     "output_type": "execute_result"
    }
   ],
   "source": [
    "df.columns"
   ]
  },
  {
   "cell_type": "code",
   "execution_count": 13,
   "id": "6ac2bcd6",
   "metadata": {},
   "outputs": [
    {
     "name": "stdout",
     "output_type": "stream",
     "text": [
      "0\n"
     ]
    }
   ],
   "source": [
    "print(df[df['unix']==0].shape[0])\n"
   ]
  },
  {
   "cell_type": "code",
   "execution_count": 14,
   "id": "b41b3bd7",
   "metadata": {},
   "outputs": [
    {
     "name": "stdout",
     "output_type": "stream",
     "text": [
      "0\n"
     ]
    }
   ],
   "source": [
    "print(df[df['date']==0].shape[0])\n"
   ]
  },
  {
   "cell_type": "code",
   "execution_count": 15,
   "id": "829dafba",
   "metadata": {},
   "outputs": [
    {
     "name": "stdout",
     "output_type": "stream",
     "text": [
      "0\n"
     ]
    }
   ],
   "source": [
    "print(df[df['symbol']==0].shape[0])\n"
   ]
  },
  {
   "cell_type": "code",
   "execution_count": 16,
   "id": "4508580d",
   "metadata": {},
   "outputs": [
    {
     "name": "stdout",
     "output_type": "stream",
     "text": [
      "0\n"
     ]
    }
   ],
   "source": [
    "print(df[df['open']==0].shape[0])\n"
   ]
  },
  {
   "cell_type": "code",
   "execution_count": 17,
   "id": "3f2c49cd",
   "metadata": {},
   "outputs": [
    {
     "name": "stdout",
     "output_type": "stream",
     "text": [
      "0\n"
     ]
    }
   ],
   "source": [
    "print(df[df['high']==0].shape[0])\n"
   ]
  },
  {
   "cell_type": "code",
   "execution_count": 18,
   "id": "dfa716f7",
   "metadata": {},
   "outputs": [
    {
     "name": "stdout",
     "output_type": "stream",
     "text": [
      "0\n"
     ]
    }
   ],
   "source": [
    "print(df[df['low']==0].shape[0])\n"
   ]
  },
  {
   "cell_type": "code",
   "execution_count": 19,
   "id": "b9a7b0da",
   "metadata": {},
   "outputs": [
    {
     "name": "stdout",
     "output_type": "stream",
     "text": [
      "0\n"
     ]
    }
   ],
   "source": [
    "print(df[df['close']==0].shape[0])\n"
   ]
  },
  {
   "cell_type": "code",
   "execution_count": 20,
   "id": "daff291b",
   "metadata": {},
   "outputs": [
    {
     "name": "stdout",
     "output_type": "stream",
     "text": [
      "5107\n"
     ]
    }
   ],
   "source": [
    "print(df[df['Volume BTC']==0].shape[0])\n"
   ]
  },
  {
   "cell_type": "code",
   "execution_count": 21,
   "id": "2bc61b74",
   "metadata": {},
   "outputs": [
    {
     "name": "stdout",
     "output_type": "stream",
     "text": [
      "5107\n"
     ]
    }
   ],
   "source": [
    "print(df[df['Volume USD']==0].shape[0])\n"
   ]
  },
  {
   "cell_type": "code",
   "execution_count": 22,
   "id": "e02cc555",
   "metadata": {},
   "outputs": [],
   "source": [
    "df['Volume BTC']=df['Volume BTC'].replace(0,df['Volume BTC'].mean())\n"
   ]
  },
  {
   "cell_type": "code",
   "execution_count": 23,
   "id": "d0fd3559",
   "metadata": {},
   "outputs": [
    {
     "name": "stdout",
     "output_type": "stream",
     "text": [
      "0\n"
     ]
    }
   ],
   "source": [
    "print(df[df['Volume BTC']==0].shape[0])\n"
   ]
  },
  {
   "cell_type": "code",
   "execution_count": 24,
   "id": "42ea5761",
   "metadata": {},
   "outputs": [],
   "source": [
    "df['Volume USD']=df['Volume USD'].replace(0,df['Volume USD'].mean())\n"
   ]
  },
  {
   "cell_type": "code",
   "execution_count": 25,
   "id": "0c419fcd",
   "metadata": {},
   "outputs": [
    {
     "name": "stdout",
     "output_type": "stream",
     "text": [
      "0\n"
     ]
    }
   ],
   "source": [
    "print(df[df['Volume USD']==0].shape[0])\n"
   ]
  },
  {
   "cell_type": "code",
   "execution_count": 26,
   "id": "33819583",
   "metadata": {},
   "outputs": [
    {
     "data": {
      "text/html": [
       "<div>\n",
       "<style scoped>\n",
       "    .dataframe tbody tr th:only-of-type {\n",
       "        vertical-align: middle;\n",
       "    }\n",
       "\n",
       "    .dataframe tbody tr th {\n",
       "        vertical-align: top;\n",
       "    }\n",
       "\n",
       "    .dataframe thead th {\n",
       "        text-align: right;\n",
       "    }\n",
       "</style>\n",
       "<table border=\"1\" class=\"dataframe\">\n",
       "  <thead>\n",
       "    <tr style=\"text-align: right;\">\n",
       "      <th></th>\n",
       "      <th>unix</th>\n",
       "      <th>open</th>\n",
       "      <th>high</th>\n",
       "      <th>low</th>\n",
       "      <th>close</th>\n",
       "      <th>Volume BTC</th>\n",
       "      <th>Volume USD</th>\n",
       "    </tr>\n",
       "  </thead>\n",
       "  <tbody>\n",
       "    <tr>\n",
       "      <th>count</th>\n",
       "      <td>6.107820e+05</td>\n",
       "      <td>610782.000000</td>\n",
       "      <td>610782.000000</td>\n",
       "      <td>610782.000000</td>\n",
       "      <td>610782.000000</td>\n",
       "      <td>6.107820e+05</td>\n",
       "      <td>6.107820e+05</td>\n",
       "    </tr>\n",
       "    <tr>\n",
       "      <th>mean</th>\n",
       "      <td>1.627783e+09</td>\n",
       "      <td>46482.265381</td>\n",
       "      <td>46509.783597</td>\n",
       "      <td>46454.085712</td>\n",
       "      <td>46482.567211</td>\n",
       "      <td>3.191720e+00</td>\n",
       "      <td>1.401092e+05</td>\n",
       "    </tr>\n",
       "    <tr>\n",
       "      <th>std</th>\n",
       "      <td>1.057906e+07</td>\n",
       "      <td>9453.990285</td>\n",
       "      <td>9454.798088</td>\n",
       "      <td>9453.135638</td>\n",
       "      <td>9454.107853</td>\n",
       "      <td>7.887968e+00</td>\n",
       "      <td>3.295599e+05</td>\n",
       "    </tr>\n",
       "    <tr>\n",
       "      <th>min</th>\n",
       "      <td>1.609459e+09</td>\n",
       "      <td>28093.810000</td>\n",
       "      <td>28397.520000</td>\n",
       "      <td>27734.000000</td>\n",
       "      <td>28073.030000</td>\n",
       "      <td>1.000000e-08</td>\n",
       "      <td>3.382373e-04</td>\n",
       "    </tr>\n",
       "    <tr>\n",
       "      <th>25%</th>\n",
       "      <td>1.618621e+09</td>\n",
       "      <td>38129.052500</td>\n",
       "      <td>38157.882500</td>\n",
       "      <td>38099.437500</td>\n",
       "      <td>38129.137500</td>\n",
       "      <td>2.062705e-01</td>\n",
       "      <td>9.503485e+03</td>\n",
       "    </tr>\n",
       "    <tr>\n",
       "      <th>50%</th>\n",
       "      <td>1.627783e+09</td>\n",
       "      <td>46666.960000</td>\n",
       "      <td>46697.745000</td>\n",
       "      <td>46636.710000</td>\n",
       "      <td>46667.295000</td>\n",
       "      <td>9.653736e-01</td>\n",
       "      <td>4.368229e+04</td>\n",
       "    </tr>\n",
       "    <tr>\n",
       "      <th>75%</th>\n",
       "      <td>1.636944e+09</td>\n",
       "      <td>54907.797500</td>\n",
       "      <td>54938.655000</td>\n",
       "      <td>54877.405000</td>\n",
       "      <td>54907.412500</td>\n",
       "      <td>3.117177e+00</td>\n",
       "      <td>1.389474e+05</td>\n",
       "    </tr>\n",
       "    <tr>\n",
       "      <th>max</th>\n",
       "      <td>1.646106e+09</td>\n",
       "      <td>69000.000000</td>\n",
       "      <td>69000.000000</td>\n",
       "      <td>68799.990000</td>\n",
       "      <td>69000.000000</td>\n",
       "      <td>3.985659e+02</td>\n",
       "      <td>1.396792e+07</td>\n",
       "    </tr>\n",
       "  </tbody>\n",
       "</table>\n",
       "</div>"
      ],
      "text/plain": [
       "               unix           open           high            low  \\\n",
       "count  6.107820e+05  610782.000000  610782.000000  610782.000000   \n",
       "mean   1.627783e+09   46482.265381   46509.783597   46454.085712   \n",
       "std    1.057906e+07    9453.990285    9454.798088    9453.135638   \n",
       "min    1.609459e+09   28093.810000   28397.520000   27734.000000   \n",
       "25%    1.618621e+09   38129.052500   38157.882500   38099.437500   \n",
       "50%    1.627783e+09   46666.960000   46697.745000   46636.710000   \n",
       "75%    1.636944e+09   54907.797500   54938.655000   54877.405000   \n",
       "max    1.646106e+09   69000.000000   69000.000000   68799.990000   \n",
       "\n",
       "               close    Volume BTC    Volume USD  \n",
       "count  610782.000000  6.107820e+05  6.107820e+05  \n",
       "mean    46482.567211  3.191720e+00  1.401092e+05  \n",
       "std      9454.107853  7.887968e+00  3.295599e+05  \n",
       "min     28073.030000  1.000000e-08  3.382373e-04  \n",
       "25%     38129.137500  2.062705e-01  9.503485e+03  \n",
       "50%     46667.295000  9.653736e-01  4.368229e+04  \n",
       "75%     54907.412500  3.117177e+00  1.389474e+05  \n",
       "max     69000.000000  3.985659e+02  1.396792e+07  "
      ]
     },
     "execution_count": 26,
     "metadata": {},
     "output_type": "execute_result"
    }
   ],
   "source": [
    "df.describe()\n"
   ]
  },
  {
   "cell_type": "code",
   "execution_count": 27,
   "id": "b6d4df25",
   "metadata": {},
   "outputs": [
    {
     "data": {
      "image/png": "[encoded data removed]",
      "text/plain": [
       "<Figure size 1500x500 with 1 Axes>"
      ]
     },
     "metadata": {},
     "output_type": "display_data"
    }
   ],
   "source": [
    "plt.figure(figsize=(15,5))\n",
    "plt.plot(df['close'])\n",
    "plt.title('Bitcoin close price', fontsize=15)\n",
    "plt.ylabel('Price in dollers')\n",
    "plt.show()\n"
   ]
  },
  {
   "cell_type": "code",
   "execution_count": 28,
   "id": "0451e904",
   "metadata": {},
   "outputs": [
    {
     "data": {
      "image/png": "[encoded data removed]",
      "text/plain": [
       "<Figure size 2000x1000 with 4 Axes>"
      ]
     },
     "metadata": {},
     "output_type": "display_data"
    }
   ],
   "source": [
    "features=['open','high','low','close']\n",
    "plt.subplots(figsize=(20,10))\n",
    "for i,col in enumerate(features):\n",
    "    plt.subplot(2,2,i+1)\n",
    "    sns.boxplot(df[col])\n",
    "plt.show()\n"
   ]
  },
  {
   "cell_type": "code",
   "execution_count": null,
   "id": "222a706b",
   "metadata": {},
   "outputs": [],
   "source": [
    "date_grouped=df.groupby('date').mean()\n",
    "plt.subplots(figsize=(20,10))\n",
    "for i, col in enumerate(['open','high','low','close']):\n",
    "    plt.subplot(2,2,i+1)\n",
    "    date_grouped[col].plot.bar()\n",
    "plt.show()\n"
   ]
  },
  {
   "cell_type": "code",
   "execution_count": 30,
   "id": "9bcffc94",
   "metadata": {},
   "outputs": [],
   "source": [
    "df['open-close']=df['open']-df['close']\n",
    "df['low-high']=df['low']-df['high']\n",
    "df['target']=np.where(df['close'].shift(-1)>df['close'],1,0)\n"
   ]
  },
  {
   "cell_type": "code",
   "execution_count": 31,
   "id": "071e30a5",
   "metadata": {},
   "outputs": [
    {
     "data": {
      "text/html": [
       "<div>\n",
       "<style scoped>\n",
       "    .dataframe tbody tr th:only-of-type {\n",
       "        vertical-align: middle;\n",
       "    }\n",
       "\n",
       "    .dataframe tbody tr th {\n",
       "        vertical-align: top;\n",
       "    }\n",
       "\n",
       "    .dataframe thead th {\n",
       "        text-align: right;\n",
       "    }\n",
       "</style>\n",
       "<table border=\"1\" class=\"dataframe\">\n",
       "  <thead>\n",
       "    <tr style=\"text-align: right;\">\n",
       "      <th></th>\n",
       "      <th>unix</th>\n",
       "      <th>date</th>\n",
       "      <th>symbol</th>\n",
       "      <th>open</th>\n",
       "      <th>high</th>\n",
       "      <th>low</th>\n",
       "      <th>close</th>\n",
       "      <th>Volume BTC</th>\n",
       "      <th>Volume USD</th>\n",
       "      <th>open-close</th>\n",
       "      <th>low-high</th>\n",
       "      <th>target</th>\n",
       "    </tr>\n",
       "  </thead>\n",
       "  <tbody>\n",
       "    <tr>\n",
       "      <th>0</th>\n",
       "      <td>1646106180</td>\n",
       "      <td>2022-03-01 03:43:00</td>\n",
       "      <td>BTC/USD</td>\n",
       "      <td>43046.58</td>\n",
       "      <td>43046.58</td>\n",
       "      <td>43046.58</td>\n",
       "      <td>43046.58</td>\n",
       "      <td>3.165254</td>\n",
       "      <td>138947.357197</td>\n",
       "      <td>0.00</td>\n",
       "      <td>0.00</td>\n",
       "      <td>0</td>\n",
       "    </tr>\n",
       "    <tr>\n",
       "      <th>1</th>\n",
       "      <td>1646106060</td>\n",
       "      <td>2022-03-01 03:41:00</td>\n",
       "      <td>BTC/USD</td>\n",
       "      <td>43018.23</td>\n",
       "      <td>43046.59</td>\n",
       "      <td>43018.23</td>\n",
       "      <td>43046.58</td>\n",
       "      <td>0.142977</td>\n",
       "      <td>6154.673021</td>\n",
       "      <td>-28.35</td>\n",
       "      <td>-28.36</td>\n",
       "      <td>0</td>\n",
       "    </tr>\n",
       "    <tr>\n",
       "      <th>2</th>\n",
       "      <td>1646106000</td>\n",
       "      <td>2022-03-01 03:40:00</td>\n",
       "      <td>BTC/USD</td>\n",
       "      <td>43022.24</td>\n",
       "      <td>43022.24</td>\n",
       "      <td>43016.03</td>\n",
       "      <td>43016.03</td>\n",
       "      <td>0.009230</td>\n",
       "      <td>397.037957</td>\n",
       "      <td>6.21</td>\n",
       "      <td>-6.21</td>\n",
       "      <td>0</td>\n",
       "    </tr>\n",
       "    <tr>\n",
       "      <th>3</th>\n",
       "      <td>1646105940</td>\n",
       "      <td>2022-03-01 03:39:00</td>\n",
       "      <td>BTC/USD</td>\n",
       "      <td>43035.16</td>\n",
       "      <td>43035.16</td>\n",
       "      <td>42999.44</td>\n",
       "      <td>42999.44</td>\n",
       "      <td>0.820950</td>\n",
       "      <td>35300.390268</td>\n",
       "      <td>35.72</td>\n",
       "      <td>-35.72</td>\n",
       "      <td>1</td>\n",
       "    </tr>\n",
       "    <tr>\n",
       "      <th>4</th>\n",
       "      <td>1646105880</td>\n",
       "      <td>2022-03-01 03:38:00</td>\n",
       "      <td>BTC/USD</td>\n",
       "      <td>43077.82</td>\n",
       "      <td>43077.82</td>\n",
       "      <td>43049.46</td>\n",
       "      <td>43049.46</td>\n",
       "      <td>0.022210</td>\n",
       "      <td>956.143143</td>\n",
       "      <td>28.36</td>\n",
       "      <td>-28.36</td>\n",
       "      <td>1</td>\n",
       "    </tr>\n",
       "    <tr>\n",
       "      <th>...</th>\n",
       "      <td>...</td>\n",
       "      <td>...</td>\n",
       "      <td>...</td>\n",
       "      <td>...</td>\n",
       "      <td>...</td>\n",
       "      <td>...</td>\n",
       "      <td>...</td>\n",
       "      <td>...</td>\n",
       "      <td>...</td>\n",
       "      <td>...</td>\n",
       "      <td>...</td>\n",
       "      <td>...</td>\n",
       "    </tr>\n",
       "    <tr>\n",
       "      <th>610777</th>\n",
       "      <td>1609459500</td>\n",
       "      <td>2021-01-01 00:05:00</td>\n",
       "      <td>BTC/USD</td>\n",
       "      <td>29021.86</td>\n",
       "      <td>29023.38</td>\n",
       "      <td>28982.33</td>\n",
       "      <td>28999.50</td>\n",
       "      <td>1.062360</td>\n",
       "      <td>30807.899250</td>\n",
       "      <td>22.36</td>\n",
       "      <td>-41.05</td>\n",
       "      <td>1</td>\n",
       "    </tr>\n",
       "    <tr>\n",
       "      <th>610778</th>\n",
       "      <td>1609459440</td>\n",
       "      <td>2021-01-01 00:04:00</td>\n",
       "      <td>BTC/USD</td>\n",
       "      <td>29048.13</td>\n",
       "      <td>29057.73</td>\n",
       "      <td>29035.61</td>\n",
       "      <td>29045.19</td>\n",
       "      <td>1.446538</td>\n",
       "      <td>42014.959434</td>\n",
       "      <td>2.94</td>\n",
       "      <td>-22.12</td>\n",
       "      <td>1</td>\n",
       "    </tr>\n",
       "    <tr>\n",
       "      <th>610779</th>\n",
       "      <td>1609459380</td>\n",
       "      <td>2021-01-01 00:03:00</td>\n",
       "      <td>BTC/USD</td>\n",
       "      <td>29037.68</td>\n",
       "      <td>29069.39</td>\n",
       "      <td>29019.00</td>\n",
       "      <td>29048.13</td>\n",
       "      <td>2.189621</td>\n",
       "      <td>63604.382387</td>\n",
       "      <td>-10.45</td>\n",
       "      <td>-50.39</td>\n",
       "      <td>0</td>\n",
       "    </tr>\n",
       "    <tr>\n",
       "      <th>610780</th>\n",
       "      <td>1609459320</td>\n",
       "      <td>2021-01-01 00:02:00</td>\n",
       "      <td>BTC/USD</td>\n",
       "      <td>29069.80</td>\n",
       "      <td>29073.02</td>\n",
       "      <td>29028.14</td>\n",
       "      <td>29035.89</td>\n",
       "      <td>3.030301</td>\n",
       "      <td>87987.499279</td>\n",
       "      <td>33.91</td>\n",
       "      <td>-44.88</td>\n",
       "      <td>1</td>\n",
       "    </tr>\n",
       "    <tr>\n",
       "      <th>610781</th>\n",
       "      <td>1609459260</td>\n",
       "      <td>2021-01-01 00:01:00</td>\n",
       "      <td>BTC/USD</td>\n",
       "      <td>29007.31</td>\n",
       "      <td>29086.90</td>\n",
       "      <td>29007.31</td>\n",
       "      <td>29083.47</td>\n",
       "      <td>14.561951</td>\n",
       "      <td>423512.060397</td>\n",
       "      <td>-76.16</td>\n",
       "      <td>-79.59</td>\n",
       "      <td>0</td>\n",
       "    </tr>\n",
       "  </tbody>\n",
       "</table>\n",
       "<p>610782 rows × 12 columns</p>\n",
       "</div>"
      ],
      "text/plain": [
       "              unix                 date   symbol      open      high  \\\n",
       "0       1646106180  2022-03-01 03:43:00  BTC/USD  43046.58  43046.58   \n",
       "1       1646106060  2022-03-01 03:41:00  BTC/USD  43018.23  43046.59   \n",
       "2       1646106000  2022-03-01 03:40:00  BTC/USD  43022.24  43022.24   \n",
       "3       1646105940  2022-03-01 03:39:00  BTC/USD  43035.16  43035.16   \n",
       "4       1646105880  2022-03-01 03:38:00  BTC/USD  43077.82  43077.82   \n",
       "...            ...                  ...      ...       ...       ...   \n",
       "610777  1609459500  2021-01-01 00:05:00  BTC/USD  29021.86  29023.38   \n",
       "610778  1609459440  2021-01-01 00:04:00  BTC/USD  29048.13  29057.73   \n",
       "610779  1609459380  2021-01-01 00:03:00  BTC/USD  29037.68  29069.39   \n",
       "610780  1609459320  2021-01-01 00:02:00  BTC/USD  29069.80  29073.02   \n",
       "610781  1609459260  2021-01-01 00:01:00  BTC/USD  29007.31  29086.90   \n",
       "\n",
       "             low     close  Volume BTC     Volume USD  open-close  low-high  \\\n",
       "0       43046.58  43046.58    3.165254  138947.357197        0.00      0.00   \n",
       "1       43018.23  43046.58    0.142977    6154.673021      -28.35    -28.36   \n",
       "2       43016.03  43016.03    0.009230     397.037957        6.21     -6.21   \n",
       "3       42999.44  42999.44    0.820950   35300.390268       35.72    -35.72   \n",
       "4       43049.46  43049.46    0.022210     956.143143       28.36    -28.36   \n",
       "...          ...       ...         ...            ...         ...       ...   \n",
       "610777  28982.33  28999.50    1.062360   30807.899250       22.36    -41.05   \n",
       "610778  29035.61  29045.19    1.446538   42014.959434        2.94    -22.12   \n",
       "610779  29019.00  29048.13    2.189621   63604.382387      -10.45    -50.39   \n",
       "610780  29028.14  29035.89    3.030301   87987.499279       33.91    -44.88   \n",
       "610781  29007.31  29083.47   14.561951  423512.060397      -76.16    -79.59   \n",
       "\n",
       "        target  \n",
       "0            0  \n",
       "1            0  \n",
       "2            0  \n",
       "3            1  \n",
       "4            1  \n",
       "...        ...  \n",
       "610777       1  \n",
       "610778       1  \n",
       "610779       0  \n",
       "610780       1  \n",
       "610781       0  \n",
       "\n",
       "[610782 rows x 12 columns]"
      ]
     },
     "execution_count": 31,
     "metadata": {},
     "output_type": "execute_result"
    }
   ],
   "source": [
    "df"
   ]
  },
  {
   "cell_type": "code",
   "execution_count": 32,
   "id": "6ad21979",
   "metadata": {},
   "outputs": [
    {
     "data": {
      "image/png": "[encoded data removed]",
      "text/plain": [
       "<Figure size 640x480 with 1 Axes>"
      ]
     },
     "metadata": {},
     "output_type": "display_data"
    }
   ],
   "source": [
    "plt.pie(df['target'].value_counts().values, labels=[0,1], autopct='%1.1f%%')\n",
    "plt.show()\n"
   ]
  },
  {
   "cell_type": "code",
   "execution_count": 33,
   "id": "d4c59db4",
   "metadata": {},
   "outputs": [
    {
     "data": {
      "image/png": "[encoded data removed]",
      "text/plain": [
       "<Figure size 1000x1000 with 1 Axes>"
      ]
     },
     "metadata": {},
     "output_type": "display_data"
    }
   ],
   "source": [
    "plt.figure(figsize=(10,10))\n",
    "sns.heatmap(df.corr()>0.9, annot=True, cbar=False)\n",
    "plt.show()\n"
   ]
  },
  {
   "cell_type": "code",
   "execution_count": 34,
   "id": "4867e260",
   "metadata": {},
   "outputs": [],
   "source": [
    "from sklearn.preprocessing import StandardScaler\n",
    "from sklearn.model_selection import train_test_split\n"
   ]
  },
  {
   "cell_type": "code",
   "execution_count": 35,
   "id": "934d53a9",
   "metadata": {},
   "outputs": [
    {
     "name": "stdout",
     "output_type": "stream",
     "text": [
      "(427547, 2) (183235, 2)\n"
     ]
    }
   ],
   "source": [
    "features=df[['open-close','low-high']]\n",
    "target=df['target']\n",
    "\n",
    "scaler=StandardScaler()\n",
    "features=scaler.fit_transform(features)\n",
    "\n",
    "x_train,x_test,y_train,y_test=train_test_split(features,target,test_size=0.3,random_state=2021)\n",
    "print(x_train.shape,x_test.shape)\n"
   ]
  },
  {
   "cell_type": "code",
   "execution_count": 38,
   "id": "126bfa63",
   "metadata": {},
   "outputs": [],
   "source": [
    "from sklearn.linear_model import LinearRegression\n"
   ]
  },
  {
   "cell_type": "code",
   "execution_count": 39,
   "id": "38a06284",
   "metadata": {},
   "outputs": [],
   "source": [
    "model=LinearRegression()\n"
   ]
  },
  {
   "cell_type": "code",
   "execution_count": 40,
   "id": "6ee2bab8",
   "metadata": {},
   "outputs": [
    {
     "data": {
      "text/plain": [
       "LinearRegression()"
      ]
     },
     "execution_count": 40,
     "metadata": {},
     "output_type": "execute_result"
    }
   ],
   "source": [
    "model.fit(x_train,y_train)\n"
   ]
  },
  {
   "cell_type": "code",
   "execution_count": 41,
   "id": "3a27b6bc",
   "metadata": {},
   "outputs": [],
   "source": [
    "y_pred=model.predict(x_test)\n"
   ]
  },
  {
   "cell_type": "code",
   "execution_count": 42,
   "id": "c01610eb",
   "metadata": {},
   "outputs": [
    {
     "data": {
      "text/plain": [
       "array([0.40695458, 0.49142525, 0.48525464, ..., 0.61489715, 0.43473725,\n",
       "       0.49485928])"
      ]
     },
     "execution_count": 42,
     "metadata": {},
     "output_type": "execute_result"
    }
   ],
   "source": [
    "y_pred"
   ]
  },
  {
   "cell_type": "code",
   "execution_count": 43,
   "id": "051e7a20",
   "metadata": {},
   "outputs": [
    {
     "data": {
      "text/plain": [
       "array([ 0.28340769, -0.0062221 ])"
      ]
     },
     "execution_count": 43,
     "metadata": {},
     "output_type": "execute_result"
    }
   ],
   "source": [
    "model.coef_"
   ]
  },
  {
   "cell_type": "code",
   "execution_count": 44,
   "id": "e9aeb82a",
   "metadata": {},
   "outputs": [
    {
     "data": {
      "text/plain": [
       "0.4949960635763465"
      ]
     },
     "execution_count": 44,
     "metadata": {},
     "output_type": "execute_result"
    }
   ],
   "source": [
    "model.intercept_"
   ]
  },
  {
   "cell_type": "code",
   "execution_count": 45,
   "id": "0d5372fc",
   "metadata": {},
   "outputs": [],
   "source": [
    "from sklearn import metrics"
   ]
  },
  {
   "cell_type": "code",
   "execution_count": 46,
   "id": "cd6d13a3",
   "metadata": {},
   "outputs": [
    {
     "name": "stdout",
     "output_type": "stream",
     "text": [
      "0.32089823008597795\n"
     ]
    }
   ],
   "source": [
    "rmse=metrics.r2_score(y_test,y_pred)\n",
    "print(rmse)\n"
   ]
  },
  {
   "cell_type": "code",
   "execution_count": 47,
   "id": "eb51e614",
   "metadata": {},
   "outputs": [
    {
     "name": "stdout",
     "output_type": "stream",
     "text": [
      "0.16975174108900598\n"
     ]
    }
   ],
   "source": [
    "mse=metrics.mean_squared_error(y_test,y_pred)\n",
    "print(mse)\n"
   ]
  },
  {
   "cell_type": "code",
   "execution_count": 48,
   "id": "11e60c44",
   "metadata": {},
   "outputs": [
    {
     "name": "stdout",
     "output_type": "stream",
     "text": [
      "0.3742339891700185\n"
     ]
    }
   ],
   "source": [
    "mae=metrics.mean_absolute_error(y_test,y_pred)\n",
    "print(mae)\n"
   ]
  },
  {
   "cell_type": "code",
   "execution_count": 49,
   "id": "5d623a4d",
   "metadata": {},
   "outputs": [
    {
     "data": {
      "text/plain": [
       "<seaborn.axisgrid.FacetGrid at 0x24d09236c88>"
      ]
     },
     "execution_count": 49,
     "metadata": {},
     "output_type": "execute_result"
    },
    {
     "data": {
      "image/png": "[encoded data removed]",
      "text/plain": [
       "<Figure size 500x500 with 1 Axes>"
      ]
     },
     "metadata": {},
     "output_type": "display_data"
    }
   ],
   "source": [
    "sns.displot(y_pred-y_test)\n"
   ]
  },
  {
   "cell_type": "code",
   "execution_count": 50,
   "id": "a2f4a67d",
   "metadata": {},
   "outputs": [
    {
     "data": {
      "text/plain": [
       "<AxesSubplot:ylabel='target'>"
      ]
     },
     "execution_count": 50,
     "metadata": {},
     "output_type": "execute_result"
    },
    {
     "data": {
      "image/png": "[encoded data removed]",
      "text/plain": [
       "<Figure size 640x480 with 1 Axes>"
      ]
     },
     "metadata": {},
     "output_type": "display_data"
    }
   ],
   "source": [
    "sns.scatterplot(x=y_pred,y=y_pred-y_test)\n"
   ]
  },
  {
   "cell_type": "code",
   "execution_count": 51,
   "id": "9efbf63d",
   "metadata": {},
   "outputs": [],
   "source": [
    "from sklearn.ensemble import RandomForestClassifier"
   ]
  },
  {
   "cell_type": "code",
   "execution_count": 52,
   "id": "1080e1ab",
   "metadata": {},
   "outputs": [],
   "source": [
    "classifier=RandomForestClassifier(n_estimators=100,criterion='gini',random_state=0)\n"
   ]
  },
  {
   "cell_type": "code",
   "execution_count": 55,
   "id": "abc32ff1",
   "metadata": {},
   "outputs": [
    {
     "data": {
      "text/plain": [
       "RandomForestClassifier(random_state=0)"
      ]
     },
     "execution_count": 55,
     "metadata": {},
     "output_type": "execute_result"
    }
   ],
   "source": [
    "classifier.fit(x_train,y_train)\n"
   ]
  },
  {
   "cell_type": "code",
   "execution_count": 54,
   "id": "ba64370a",
   "metadata": {},
   "outputs": [
    {
     "data": {
      "text/plain": [
       "array([0, 0, 1, ..., 1, 0, 0])"
      ]
     },
     "execution_count": 54,
     "metadata": {},
     "output_type": "execute_result"
    }
   ],
   "source": [
    "classifier.predict(x_test)\n"
   ]
  },
  {
   "cell_type": "code",
   "execution_count": null,
   "id": "acda4874",
   "metadata": {},
   "outputs": [],
   "source": [
    "x_test"
   ]
  },
  {
   "cell_type": "code",
   "execution_count": null,
   "id": "37bee592",
   "metadata": {},
   "outputs": [],
   "source": [
    "classifier.score(x_test,y_test)\n"
   ]
  },
  {
   "cell_type": "code",
   "execution_count": null,
   "id": "49ec9a10",
   "metadata": {},
   "outputs": [],
   "source": [
    "y_pred=classifier.predict(x_test)\n"
   ]
  },
  {
   "cell_type": "code",
   "execution_count": null,
   "id": "0ff993e4",
   "metadata": {},
   "outputs": [],
   "source": [
    "y_pred"
   ]
  },
  {
   "cell_type": "code",
   "execution_count": null,
   "id": "99dbba63",
   "metadata": {},
   "outputs": [],
   "source": [
    "mse=metrics.mean_squared_error(y_test,y_pred)\n",
    "print(mse)\n"
   ]
  },
  {
   "cell_type": "code",
   "execution_count": null,
   "id": "d1fe0b9a",
   "metadata": {},
   "outputs": [],
   "source": [
    "rmse=metrics.r2_score(y_test,y_pred)\n",
    "print(rmse)\n"
   ]
  },
  {
   "cell_type": "code",
   "execution_count": null,
   "id": "16e58e32",
   "metadata": {},
   "outputs": [],
   "source": [
    "mae=metrics.mean_absolute_error(y_test,y_pred)\n",
    "print(mae)\n"
   ]
  },
  {
   "cell_type": "code",
   "execution_count": null,
   "id": "d6e47466",
   "metadata": {},
   "outputs": [],
   "source": []
  }
 ],
 "metadata": {
  "kernelspec": {
   "display_name": "Python 3 (ipykernel)",
   "language": "python",
   "name": "python3"
  },
  "language_info": {
   "codemirror_mode": {
    "name": "ipython",
    "version": 3
   },
   "file_extension": ".py",
   "mimetype": "text/x-python",
   "name": "python",
   "nbconvert_exporter": "python",
   "pygments_lexer": "ipython3",
   "version": "3.7.8"
  }
 },
 "nbformat": 4,
 "nbformat_minor": 5
}
