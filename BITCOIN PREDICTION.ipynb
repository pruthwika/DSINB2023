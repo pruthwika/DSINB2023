{
 "cells": [
  {
   "cell_type": "markdown",
   "id": "8dc1c184",
   "metadata": {},
   "source": [
    "# Task 2: Bitcoin Price Prediction"
   ]
  },
  {
   "cell_type": "code",
   "execution_count": 71,
   "id": "2f38c7bb",
   "metadata": {},
   "outputs": [],
   "source": [
    "# Importing Libraries\n",
    "import numpy as np\n",
    "import pandas as pd\n",
    "%matplotlib inline\n",
    "import matplotlib.pyplot as plt\n",
    "import seaborn as sns\n"
   ]
  },
  {
   "cell_type": "code",
   "execution_count": 2,
   "id": "00e6d482",
   "metadata": {},
   "outputs": [
    {
     "data": {
      "text/html": [
       "<div>\n",
       "<style scoped>\n",
       "    .dataframe tbody tr th:only-of-type {\n",
       "        vertical-align: middle;\n",
       "    }\n",
       "\n",
       "    .dataframe tbody tr th {\n",
       "        vertical-align: top;\n",
       "    }\n",
       "\n",
       "    .dataframe thead th {\n",
       "        text-align: right;\n",
       "    }\n",
       "</style>\n",
       "<table border=\"1\" class=\"dataframe\">\n",
       "  <thead>\n",
       "    <tr style=\"text-align: right;\">\n",
       "      <th></th>\n",
       "      <th>unix</th>\n",
       "      <th>date</th>\n",
       "      <th>symbol</th>\n",
       "      <th>open</th>\n",
       "      <th>high</th>\n",
       "      <th>low</th>\n",
       "      <th>close</th>\n",
       "      <th>Volume BTC</th>\n",
       "      <th>Volume USD</th>\n",
       "    </tr>\n",
       "  </thead>\n",
       "  <tbody>\n",
       "    <tr>\n",
       "      <th>0</th>\n",
       "      <td>1646106180</td>\n",
       "      <td>2022-03-01 03:43:00</td>\n",
       "      <td>BTC/USD</td>\n",
       "      <td>43046.58</td>\n",
       "      <td>43046.58</td>\n",
       "      <td>43046.58</td>\n",
       "      <td>43046.58</td>\n",
       "      <td>0.000000</td>\n",
       "      <td>0.000000</td>\n",
       "    </tr>\n",
       "    <tr>\n",
       "      <th>1</th>\n",
       "      <td>1646106060</td>\n",
       "      <td>2022-03-01 03:41:00</td>\n",
       "      <td>BTC/USD</td>\n",
       "      <td>43018.23</td>\n",
       "      <td>43046.59</td>\n",
       "      <td>43018.23</td>\n",
       "      <td>43046.58</td>\n",
       "      <td>0.142977</td>\n",
       "      <td>6154.673021</td>\n",
       "    </tr>\n",
       "    <tr>\n",
       "      <th>2</th>\n",
       "      <td>1646106000</td>\n",
       "      <td>2022-03-01 03:40:00</td>\n",
       "      <td>BTC/USD</td>\n",
       "      <td>43022.24</td>\n",
       "      <td>43022.24</td>\n",
       "      <td>43016.03</td>\n",
       "      <td>43016.03</td>\n",
       "      <td>0.009230</td>\n",
       "      <td>397.037957</td>\n",
       "    </tr>\n",
       "    <tr>\n",
       "      <th>3</th>\n",
       "      <td>1646105940</td>\n",
       "      <td>2022-03-01 03:39:00</td>\n",
       "      <td>BTC/USD</td>\n",
       "      <td>43035.16</td>\n",
       "      <td>43035.16</td>\n",
       "      <td>42999.44</td>\n",
       "      <td>42999.44</td>\n",
       "      <td>0.820950</td>\n",
       "      <td>35300.390268</td>\n",
       "    </tr>\n",
       "    <tr>\n",
       "      <th>4</th>\n",
       "      <td>1646105880</td>\n",
       "      <td>2022-03-01 03:38:00</td>\n",
       "      <td>BTC/USD</td>\n",
       "      <td>43077.82</td>\n",
       "      <td>43077.82</td>\n",
       "      <td>43049.46</td>\n",
       "      <td>43049.46</td>\n",
       "      <td>0.022210</td>\n",
       "      <td>956.143143</td>\n",
       "    </tr>\n",
       "    <tr>\n",
       "      <th>...</th>\n",
       "      <td>...</td>\n",
       "      <td>...</td>\n",
       "      <td>...</td>\n",
       "      <td>...</td>\n",
       "      <td>...</td>\n",
       "      <td>...</td>\n",
       "      <td>...</td>\n",
       "      <td>...</td>\n",
       "      <td>...</td>\n",
       "    </tr>\n",
       "    <tr>\n",
       "      <th>610777</th>\n",
       "      <td>1609459500</td>\n",
       "      <td>2021-01-01 00:05:00</td>\n",
       "      <td>BTC/USD</td>\n",
       "      <td>29021.86</td>\n",
       "      <td>29023.38</td>\n",
       "      <td>28982.33</td>\n",
       "      <td>28999.50</td>\n",
       "      <td>1.062360</td>\n",
       "      <td>30807.899250</td>\n",
       "    </tr>\n",
       "    <tr>\n",
       "      <th>610778</th>\n",
       "      <td>1609459440</td>\n",
       "      <td>2021-01-01 00:04:00</td>\n",
       "      <td>BTC/USD</td>\n",
       "      <td>29048.13</td>\n",
       "      <td>29057.73</td>\n",
       "      <td>29035.61</td>\n",
       "      <td>29045.19</td>\n",
       "      <td>1.446538</td>\n",
       "      <td>42014.959434</td>\n",
       "    </tr>\n",
       "    <tr>\n",
       "      <th>610779</th>\n",
       "      <td>1609459380</td>\n",
       "      <td>2021-01-01 00:03:00</td>\n",
       "      <td>BTC/USD</td>\n",
       "      <td>29037.68</td>\n",
       "      <td>29069.39</td>\n",
       "      <td>29019.00</td>\n",
       "      <td>29048.13</td>\n",
       "      <td>2.189621</td>\n",
       "      <td>63604.382387</td>\n",
       "    </tr>\n",
       "    <tr>\n",
       "      <th>610780</th>\n",
       "      <td>1609459320</td>\n",
       "      <td>2021-01-01 00:02:00</td>\n",
       "      <td>BTC/USD</td>\n",
       "      <td>29069.80</td>\n",
       "      <td>29073.02</td>\n",
       "      <td>29028.14</td>\n",
       "      <td>29035.89</td>\n",
       "      <td>3.030301</td>\n",
       "      <td>87987.499279</td>\n",
       "    </tr>\n",
       "    <tr>\n",
       "      <th>610781</th>\n",
       "      <td>1609459260</td>\n",
       "      <td>2021-01-01 00:01:00</td>\n",
       "      <td>BTC/USD</td>\n",
       "      <td>29007.31</td>\n",
       "      <td>29086.90</td>\n",
       "      <td>29007.31</td>\n",
       "      <td>29083.47</td>\n",
       "      <td>14.561951</td>\n",
       "      <td>423512.060397</td>\n",
       "    </tr>\n",
       "  </tbody>\n",
       "</table>\n",
       "<p>610782 rows × 9 columns</p>\n",
       "</div>"
      ],
      "text/plain": [
       "              unix                 date   symbol      open      high  \\\n",
       "0       1646106180  2022-03-01 03:43:00  BTC/USD  43046.58  43046.58   \n",
       "1       1646106060  2022-03-01 03:41:00  BTC/USD  43018.23  43046.59   \n",
       "2       1646106000  2022-03-01 03:40:00  BTC/USD  43022.24  43022.24   \n",
       "3       1646105940  2022-03-01 03:39:00  BTC/USD  43035.16  43035.16   \n",
       "4       1646105880  2022-03-01 03:38:00  BTC/USD  43077.82  43077.82   \n",
       "...            ...                  ...      ...       ...       ...   \n",
       "610777  1609459500  2021-01-01 00:05:00  BTC/USD  29021.86  29023.38   \n",
       "610778  1609459440  2021-01-01 00:04:00  BTC/USD  29048.13  29057.73   \n",
       "610779  1609459380  2021-01-01 00:03:00  BTC/USD  29037.68  29069.39   \n",
       "610780  1609459320  2021-01-01 00:02:00  BTC/USD  29069.80  29073.02   \n",
       "610781  1609459260  2021-01-01 00:01:00  BTC/USD  29007.31  29086.90   \n",
       "\n",
       "             low     close  Volume BTC     Volume USD  \n",
       "0       43046.58  43046.58    0.000000       0.000000  \n",
       "1       43018.23  43046.58    0.142977    6154.673021  \n",
       "2       43016.03  43016.03    0.009230     397.037957  \n",
       "3       42999.44  42999.44    0.820950   35300.390268  \n",
       "4       43049.46  43049.46    0.022210     956.143143  \n",
       "...          ...       ...         ...            ...  \n",
       "610777  28982.33  28999.50    1.062360   30807.899250  \n",
       "610778  29035.61  29045.19    1.446538   42014.959434  \n",
       "610779  29019.00  29048.13    2.189621   63604.382387  \n",
       "610780  29028.14  29035.89    3.030301   87987.499279  \n",
       "610781  29007.31  29083.47   14.561951  423512.060397  \n",
       "\n",
       "[610782 rows x 9 columns]"
      ]
     },
     "execution_count": 2,
     "metadata": {},
     "output_type": "execute_result"
    }
   ],
   "source": [
    "bs=pd.read_csv('BTC-2021min[1].csv')\n",
    "bs"
   ]
  },
  {
   "cell_type": "markdown",
   "id": "1dbe55cd",
   "metadata": {},
   "source": [
    "# Data Preprocessing"
   ]
  },
  {
   "cell_type": "code",
   "execution_count": 3,
   "id": "c491fd2a",
   "metadata": {},
   "outputs": [
    {
     "data": {
      "text/plain": [
       "(610782, 9)"
      ]
     },
     "execution_count": 3,
     "metadata": {},
     "output_type": "execute_result"
    }
   ],
   "source": [
    "bs.shape"
   ]
  },
  {
   "cell_type": "code",
   "execution_count": 4,
   "id": "57f9c280",
   "metadata": {},
   "outputs": [
    {
     "data": {
      "text/plain": [
       "5497038"
      ]
     },
     "execution_count": 4,
     "metadata": {},
     "output_type": "execute_result"
    }
   ],
   "source": [
    "bs.size"
   ]
  },
  {
   "cell_type": "code",
   "execution_count": 5,
   "id": "1d1b8c6c",
   "metadata": {},
   "outputs": [
    {
     "name": "stdout",
     "output_type": "stream",
     "text": [
      "<class 'pandas.core.frame.DataFrame'>\n",
      "RangeIndex: 610782 entries, 0 to 610781\n",
      "Data columns (total 9 columns):\n",
      " #   Column      Non-Null Count   Dtype  \n",
      "---  ------      --------------   -----  \n",
      " 0   unix        610782 non-null  int64  \n",
      " 1   date        610782 non-null  object \n",
      " 2   symbol      610782 non-null  object \n",
      " 3   open        610782 non-null  float64\n",
      " 4   high        610782 non-null  float64\n",
      " 5   low         610782 non-null  float64\n",
      " 6   close       610782 non-null  float64\n",
      " 7   Volume BTC  610782 non-null  float64\n",
      " 8   Volume USD  610782 non-null  float64\n",
      "dtypes: float64(6), int64(1), object(2)\n",
      "memory usage: 41.9+ MB\n"
     ]
    }
   ],
   "source": [
    "bs.info()"
   ]
  },
  {
   "cell_type": "code",
   "execution_count": 6,
   "id": "a8655756",
   "metadata": {},
   "outputs": [
    {
     "data": {
      "text/plain": [
       "unix          0\n",
       "date          0\n",
       "symbol        0\n",
       "open          0\n",
       "high          0\n",
       "low           0\n",
       "close         0\n",
       "Volume BTC    0\n",
       "Volume USD    0\n",
       "dtype: int64"
      ]
     },
     "execution_count": 6,
     "metadata": {},
     "output_type": "execute_result"
    }
   ],
   "source": [
    "bs.isnull().sum()"
   ]
  },
  {
   "cell_type": "code",
   "execution_count": 7,
   "id": "87b0a79b",
   "metadata": {},
   "outputs": [
    {
     "data": {
      "text/html": [
       "<div>\n",
       "<style scoped>\n",
       "    .dataframe tbody tr th:only-of-type {\n",
       "        vertical-align: middle;\n",
       "    }\n",
       "\n",
       "    .dataframe tbody tr th {\n",
       "        vertical-align: top;\n",
       "    }\n",
       "\n",
       "    .dataframe thead th {\n",
       "        text-align: right;\n",
       "    }\n",
       "</style>\n",
       "<table border=\"1\" class=\"dataframe\">\n",
       "  <thead>\n",
       "    <tr style=\"text-align: right;\">\n",
       "      <th></th>\n",
       "      <th>unix</th>\n",
       "      <th>open</th>\n",
       "      <th>high</th>\n",
       "      <th>low</th>\n",
       "      <th>close</th>\n",
       "      <th>Volume BTC</th>\n",
       "      <th>Volume USD</th>\n",
       "    </tr>\n",
       "  </thead>\n",
       "  <tbody>\n",
       "    <tr>\n",
       "      <th>count</th>\n",
       "      <td>6.107820e+05</td>\n",
       "      <td>610782.000000</td>\n",
       "      <td>610782.000000</td>\n",
       "      <td>610782.000000</td>\n",
       "      <td>610782.000000</td>\n",
       "      <td>610782.000000</td>\n",
       "      <td>6.107820e+05</td>\n",
       "    </tr>\n",
       "    <tr>\n",
       "      <th>mean</th>\n",
       "      <td>1.627783e+09</td>\n",
       "      <td>46482.265381</td>\n",
       "      <td>46509.783597</td>\n",
       "      <td>46454.085712</td>\n",
       "      <td>46482.567211</td>\n",
       "      <td>3.165254</td>\n",
       "      <td>1.389474e+05</td>\n",
       "    </tr>\n",
       "    <tr>\n",
       "      <th>std</th>\n",
       "      <td>1.057906e+07</td>\n",
       "      <td>9453.990285</td>\n",
       "      <td>9454.798088</td>\n",
       "      <td>9453.135638</td>\n",
       "      <td>9454.107853</td>\n",
       "      <td>7.893321</td>\n",
       "      <td>3.298068e+05</td>\n",
       "    </tr>\n",
       "    <tr>\n",
       "      <th>min</th>\n",
       "      <td>1.609459e+09</td>\n",
       "      <td>28093.810000</td>\n",
       "      <td>28397.520000</td>\n",
       "      <td>27734.000000</td>\n",
       "      <td>28073.030000</td>\n",
       "      <td>0.000000</td>\n",
       "      <td>0.000000e+00</td>\n",
       "    </tr>\n",
       "    <tr>\n",
       "      <th>25%</th>\n",
       "      <td>1.618621e+09</td>\n",
       "      <td>38129.052500</td>\n",
       "      <td>38157.882500</td>\n",
       "      <td>38099.437500</td>\n",
       "      <td>38129.137500</td>\n",
       "      <td>0.193192</td>\n",
       "      <td>8.859586e+03</td>\n",
       "    </tr>\n",
       "    <tr>\n",
       "      <th>50%</th>\n",
       "      <td>1.627783e+09</td>\n",
       "      <td>46666.960000</td>\n",
       "      <td>46697.745000</td>\n",
       "      <td>46636.710000</td>\n",
       "      <td>46667.295000</td>\n",
       "      <td>0.924971</td>\n",
       "      <td>4.190121e+04</td>\n",
       "    </tr>\n",
       "    <tr>\n",
       "      <th>75%</th>\n",
       "      <td>1.636944e+09</td>\n",
       "      <td>54907.797500</td>\n",
       "      <td>54938.655000</td>\n",
       "      <td>54877.405000</td>\n",
       "      <td>54907.412500</td>\n",
       "      <td>2.989888</td>\n",
       "      <td>1.349341e+05</td>\n",
       "    </tr>\n",
       "    <tr>\n",
       "      <th>max</th>\n",
       "      <td>1.646106e+09</td>\n",
       "      <td>69000.000000</td>\n",
       "      <td>69000.000000</td>\n",
       "      <td>68799.990000</td>\n",
       "      <td>69000.000000</td>\n",
       "      <td>398.565948</td>\n",
       "      <td>1.396792e+07</td>\n",
       "    </tr>\n",
       "  </tbody>\n",
       "</table>\n",
       "</div>"
      ],
      "text/plain": [
       "               unix           open           high            low  \\\n",
       "count  6.107820e+05  610782.000000  610782.000000  610782.000000   \n",
       "mean   1.627783e+09   46482.265381   46509.783597   46454.085712   \n",
       "std    1.057906e+07    9453.990285    9454.798088    9453.135638   \n",
       "min    1.609459e+09   28093.810000   28397.520000   27734.000000   \n",
       "25%    1.618621e+09   38129.052500   38157.882500   38099.437500   \n",
       "50%    1.627783e+09   46666.960000   46697.745000   46636.710000   \n",
       "75%    1.636944e+09   54907.797500   54938.655000   54877.405000   \n",
       "max    1.646106e+09   69000.000000   69000.000000   68799.990000   \n",
       "\n",
       "               close     Volume BTC    Volume USD  \n",
       "count  610782.000000  610782.000000  6.107820e+05  \n",
       "mean    46482.567211       3.165254  1.389474e+05  \n",
       "std      9454.107853       7.893321  3.298068e+05  \n",
       "min     28073.030000       0.000000  0.000000e+00  \n",
       "25%     38129.137500       0.193192  8.859586e+03  \n",
       "50%     46667.295000       0.924971  4.190121e+04  \n",
       "75%     54907.412500       2.989888  1.349341e+05  \n",
       "max     69000.000000     398.565948  1.396792e+07  "
      ]
     },
     "execution_count": 7,
     "metadata": {},
     "output_type": "execute_result"
    }
   ],
   "source": [
    "bs.describe()"
   ]
  },
  {
   "cell_type": "code",
   "execution_count": 8,
   "id": "4328f906",
   "metadata": {},
   "outputs": [
    {
     "data": {
      "text/html": [
       "<div>\n",
       "<style scoped>\n",
       "    .dataframe tbody tr th:only-of-type {\n",
       "        vertical-align: middle;\n",
       "    }\n",
       "\n",
       "    .dataframe tbody tr th {\n",
       "        vertical-align: top;\n",
       "    }\n",
       "\n",
       "    .dataframe thead th {\n",
       "        text-align: right;\n",
       "    }\n",
       "</style>\n",
       "<table border=\"1\" class=\"dataframe\">\n",
       "  <thead>\n",
       "    <tr style=\"text-align: right;\">\n",
       "      <th></th>\n",
       "      <th>unix</th>\n",
       "      <th>date</th>\n",
       "      <th>symbol</th>\n",
       "      <th>open</th>\n",
       "      <th>high</th>\n",
       "      <th>low</th>\n",
       "      <th>close</th>\n",
       "      <th>Volume BTC</th>\n",
       "      <th>Volume USD</th>\n",
       "    </tr>\n",
       "  </thead>\n",
       "  <tbody>\n",
       "    <tr>\n",
       "      <th>0</th>\n",
       "      <td>1646106180</td>\n",
       "      <td>2022-03-01 03:43:00</td>\n",
       "      <td>BTC/USD</td>\n",
       "      <td>43046.58</td>\n",
       "      <td>43046.58</td>\n",
       "      <td>43046.58</td>\n",
       "      <td>43046.58</td>\n",
       "      <td>0.000000</td>\n",
       "      <td>0.000000</td>\n",
       "    </tr>\n",
       "    <tr>\n",
       "      <th>1</th>\n",
       "      <td>1646106060</td>\n",
       "      <td>2022-03-01 03:41:00</td>\n",
       "      <td>BTC/USD</td>\n",
       "      <td>43018.23</td>\n",
       "      <td>43046.59</td>\n",
       "      <td>43018.23</td>\n",
       "      <td>43046.58</td>\n",
       "      <td>0.142977</td>\n",
       "      <td>6154.673021</td>\n",
       "    </tr>\n",
       "    <tr>\n",
       "      <th>2</th>\n",
       "      <td>1646106000</td>\n",
       "      <td>2022-03-01 03:40:00</td>\n",
       "      <td>BTC/USD</td>\n",
       "      <td>43022.24</td>\n",
       "      <td>43022.24</td>\n",
       "      <td>43016.03</td>\n",
       "      <td>43016.03</td>\n",
       "      <td>0.009230</td>\n",
       "      <td>397.037957</td>\n",
       "    </tr>\n",
       "    <tr>\n",
       "      <th>3</th>\n",
       "      <td>1646105940</td>\n",
       "      <td>2022-03-01 03:39:00</td>\n",
       "      <td>BTC/USD</td>\n",
       "      <td>43035.16</td>\n",
       "      <td>43035.16</td>\n",
       "      <td>42999.44</td>\n",
       "      <td>42999.44</td>\n",
       "      <td>0.820950</td>\n",
       "      <td>35300.390268</td>\n",
       "    </tr>\n",
       "    <tr>\n",
       "      <th>4</th>\n",
       "      <td>1646105880</td>\n",
       "      <td>2022-03-01 03:38:00</td>\n",
       "      <td>BTC/USD</td>\n",
       "      <td>43077.82</td>\n",
       "      <td>43077.82</td>\n",
       "      <td>43049.46</td>\n",
       "      <td>43049.46</td>\n",
       "      <td>0.022210</td>\n",
       "      <td>956.143143</td>\n",
       "    </tr>\n",
       "  </tbody>\n",
       "</table>\n",
       "</div>"
      ],
      "text/plain": [
       "         unix                 date   symbol      open      high       low  \\\n",
       "0  1646106180  2022-03-01 03:43:00  BTC/USD  43046.58  43046.58  43046.58   \n",
       "1  1646106060  2022-03-01 03:41:00  BTC/USD  43018.23  43046.59  43018.23   \n",
       "2  1646106000  2022-03-01 03:40:00  BTC/USD  43022.24  43022.24  43016.03   \n",
       "3  1646105940  2022-03-01 03:39:00  BTC/USD  43035.16  43035.16  42999.44   \n",
       "4  1646105880  2022-03-01 03:38:00  BTC/USD  43077.82  43077.82  43049.46   \n",
       "\n",
       "      close  Volume BTC    Volume USD  \n",
       "0  43046.58    0.000000      0.000000  \n",
       "1  43046.58    0.142977   6154.673021  \n",
       "2  43016.03    0.009230    397.037957  \n",
       "3  42999.44    0.820950  35300.390268  \n",
       "4  43049.46    0.022210    956.143143  "
      ]
     },
     "execution_count": 8,
     "metadata": {},
     "output_type": "execute_result"
    }
   ],
   "source": [
    "bs.head()"
   ]
  },
  {
   "cell_type": "code",
   "execution_count": 9,
   "id": "b1c3845b",
   "metadata": {},
   "outputs": [
    {
     "data": {
      "text/html": [
       "<div>\n",
       "<style scoped>\n",
       "    .dataframe tbody tr th:only-of-type {\n",
       "        vertical-align: middle;\n",
       "    }\n",
       "\n",
       "    .dataframe tbody tr th {\n",
       "        vertical-align: top;\n",
       "    }\n",
       "\n",
       "    .dataframe thead th {\n",
       "        text-align: right;\n",
       "    }\n",
       "</style>\n",
       "<table border=\"1\" class=\"dataframe\">\n",
       "  <thead>\n",
       "    <tr style=\"text-align: right;\">\n",
       "      <th></th>\n",
       "      <th>unix</th>\n",
       "      <th>date</th>\n",
       "      <th>symbol</th>\n",
       "      <th>open</th>\n",
       "      <th>high</th>\n",
       "      <th>low</th>\n",
       "      <th>close</th>\n",
       "      <th>Volume BTC</th>\n",
       "      <th>Volume USD</th>\n",
       "    </tr>\n",
       "  </thead>\n",
       "  <tbody>\n",
       "    <tr>\n",
       "      <th>610777</th>\n",
       "      <td>1609459500</td>\n",
       "      <td>2021-01-01 00:05:00</td>\n",
       "      <td>BTC/USD</td>\n",
       "      <td>29021.86</td>\n",
       "      <td>29023.38</td>\n",
       "      <td>28982.33</td>\n",
       "      <td>28999.50</td>\n",
       "      <td>1.062360</td>\n",
       "      <td>30807.899250</td>\n",
       "    </tr>\n",
       "    <tr>\n",
       "      <th>610778</th>\n",
       "      <td>1609459440</td>\n",
       "      <td>2021-01-01 00:04:00</td>\n",
       "      <td>BTC/USD</td>\n",
       "      <td>29048.13</td>\n",
       "      <td>29057.73</td>\n",
       "      <td>29035.61</td>\n",
       "      <td>29045.19</td>\n",
       "      <td>1.446538</td>\n",
       "      <td>42014.959434</td>\n",
       "    </tr>\n",
       "    <tr>\n",
       "      <th>610779</th>\n",
       "      <td>1609459380</td>\n",
       "      <td>2021-01-01 00:03:00</td>\n",
       "      <td>BTC/USD</td>\n",
       "      <td>29037.68</td>\n",
       "      <td>29069.39</td>\n",
       "      <td>29019.00</td>\n",
       "      <td>29048.13</td>\n",
       "      <td>2.189621</td>\n",
       "      <td>63604.382387</td>\n",
       "    </tr>\n",
       "    <tr>\n",
       "      <th>610780</th>\n",
       "      <td>1609459320</td>\n",
       "      <td>2021-01-01 00:02:00</td>\n",
       "      <td>BTC/USD</td>\n",
       "      <td>29069.80</td>\n",
       "      <td>29073.02</td>\n",
       "      <td>29028.14</td>\n",
       "      <td>29035.89</td>\n",
       "      <td>3.030301</td>\n",
       "      <td>87987.499279</td>\n",
       "    </tr>\n",
       "    <tr>\n",
       "      <th>610781</th>\n",
       "      <td>1609459260</td>\n",
       "      <td>2021-01-01 00:01:00</td>\n",
       "      <td>BTC/USD</td>\n",
       "      <td>29007.31</td>\n",
       "      <td>29086.90</td>\n",
       "      <td>29007.31</td>\n",
       "      <td>29083.47</td>\n",
       "      <td>14.561951</td>\n",
       "      <td>423512.060397</td>\n",
       "    </tr>\n",
       "  </tbody>\n",
       "</table>\n",
       "</div>"
      ],
      "text/plain": [
       "              unix                 date   symbol      open      high  \\\n",
       "610777  1609459500  2021-01-01 00:05:00  BTC/USD  29021.86  29023.38   \n",
       "610778  1609459440  2021-01-01 00:04:00  BTC/USD  29048.13  29057.73   \n",
       "610779  1609459380  2021-01-01 00:03:00  BTC/USD  29037.68  29069.39   \n",
       "610780  1609459320  2021-01-01 00:02:00  BTC/USD  29069.80  29073.02   \n",
       "610781  1609459260  2021-01-01 00:01:00  BTC/USD  29007.31  29086.90   \n",
       "\n",
       "             low     close  Volume BTC     Volume USD  \n",
       "610777  28982.33  28999.50    1.062360   30807.899250  \n",
       "610778  29035.61  29045.19    1.446538   42014.959434  \n",
       "610779  29019.00  29048.13    2.189621   63604.382387  \n",
       "610780  29028.14  29035.89    3.030301   87987.499279  \n",
       "610781  29007.31  29083.47   14.561951  423512.060397  "
      ]
     },
     "execution_count": 9,
     "metadata": {},
     "output_type": "execute_result"
    }
   ],
   "source": [
    "bs.tail()"
   ]
  },
  {
   "cell_type": "code",
   "execution_count": 10,
   "id": "843b4be7",
   "metadata": {},
   "outputs": [
    {
     "data": {
      "text/html": [
       "<div>\n",
       "<style scoped>\n",
       "    .dataframe tbody tr th:only-of-type {\n",
       "        vertical-align: middle;\n",
       "    }\n",
       "\n",
       "    .dataframe tbody tr th {\n",
       "        vertical-align: top;\n",
       "    }\n",
       "\n",
       "    .dataframe thead th {\n",
       "        text-align: right;\n",
       "    }\n",
       "</style>\n",
       "<table border=\"1\" class=\"dataframe\">\n",
       "  <thead>\n",
       "    <tr style=\"text-align: right;\">\n",
       "      <th></th>\n",
       "      <th>unix</th>\n",
       "      <th>date</th>\n",
       "      <th>symbol</th>\n",
       "      <th>open</th>\n",
       "      <th>high</th>\n",
       "      <th>low</th>\n",
       "      <th>close</th>\n",
       "      <th>Volume BTC</th>\n",
       "      <th>Volume USD</th>\n",
       "    </tr>\n",
       "  </thead>\n",
       "  <tbody>\n",
       "    <tr>\n",
       "      <th>403087</th>\n",
       "      <td>1621920900</td>\n",
       "      <td>2021-05-25 05:35:00</td>\n",
       "      <td>BTC/USD</td>\n",
       "      <td>38050.31</td>\n",
       "      <td>38052.97</td>\n",
       "      <td>37996.32</td>\n",
       "      <td>37996.32</td>\n",
       "      <td>2.125288</td>\n",
       "      <td>8.075313e+04</td>\n",
       "    </tr>\n",
       "    <tr>\n",
       "      <th>209466</th>\n",
       "      <td>1633538160</td>\n",
       "      <td>2021-10-06 16:36:00</td>\n",
       "      <td>BTC/USD</td>\n",
       "      <td>54528.44</td>\n",
       "      <td>54530.72</td>\n",
       "      <td>54477.46</td>\n",
       "      <td>54513.62</td>\n",
       "      <td>0.282988</td>\n",
       "      <td>1.542668e+04</td>\n",
       "    </tr>\n",
       "    <tr>\n",
       "      <th>577022</th>\n",
       "      <td>1611484800</td>\n",
       "      <td>2021-01-24 10:40:00</td>\n",
       "      <td>BTC/USD</td>\n",
       "      <td>32601.83</td>\n",
       "      <td>32613.12</td>\n",
       "      <td>32599.99</td>\n",
       "      <td>32599.99</td>\n",
       "      <td>0.745307</td>\n",
       "      <td>2.429699e+04</td>\n",
       "    </tr>\n",
       "    <tr>\n",
       "      <th>378315</th>\n",
       "      <td>1623407220</td>\n",
       "      <td>2021-06-11 10:27:00</td>\n",
       "      <td>BTC/USD</td>\n",
       "      <td>37450.05</td>\n",
       "      <td>37450.05</td>\n",
       "      <td>37400.05</td>\n",
       "      <td>37409.86</td>\n",
       "      <td>52.338171</td>\n",
       "      <td>1.957964e+06</td>\n",
       "    </tr>\n",
       "    <tr>\n",
       "      <th>445632</th>\n",
       "      <td>1619368200</td>\n",
       "      <td>2021-04-25 16:30:00</td>\n",
       "      <td>BTC/USD</td>\n",
       "      <td>50232.68</td>\n",
       "      <td>50246.42</td>\n",
       "      <td>50229.66</td>\n",
       "      <td>50229.66</td>\n",
       "      <td>0.311046</td>\n",
       "      <td>1.562372e+04</td>\n",
       "    </tr>\n",
       "    <tr>\n",
       "      <th>128182</th>\n",
       "      <td>1638415200</td>\n",
       "      <td>2021-12-02 03:20:00</td>\n",
       "      <td>BTC/USD</td>\n",
       "      <td>55966.88</td>\n",
       "      <td>55995.62</td>\n",
       "      <td>55851.50</td>\n",
       "      <td>55861.77</td>\n",
       "      <td>6.547631</td>\n",
       "      <td>3.657623e+05</td>\n",
       "    </tr>\n",
       "    <tr>\n",
       "      <th>599534</th>\n",
       "      <td>1610134080</td>\n",
       "      <td>2021-01-08 19:28:00</td>\n",
       "      <td>BTC/USD</td>\n",
       "      <td>40225.00</td>\n",
       "      <td>40281.63</td>\n",
       "      <td>40201.84</td>\n",
       "      <td>40215.01</td>\n",
       "      <td>39.898466</td>\n",
       "      <td>1.604517e+06</td>\n",
       "    </tr>\n",
       "    <tr>\n",
       "      <th>529745</th>\n",
       "      <td>1614321420</td>\n",
       "      <td>2021-02-26 06:37:00</td>\n",
       "      <td>BTC/USD</td>\n",
       "      <td>46143.14</td>\n",
       "      <td>46230.00</td>\n",
       "      <td>46120.70</td>\n",
       "      <td>46230.00</td>\n",
       "      <td>0.395695</td>\n",
       "      <td>1.829297e+04</td>\n",
       "    </tr>\n",
       "    <tr>\n",
       "      <th>191962</th>\n",
       "      <td>1634588400</td>\n",
       "      <td>2021-10-18 20:20:00</td>\n",
       "      <td>BTC/USD</td>\n",
       "      <td>61429.17</td>\n",
       "      <td>61463.24</td>\n",
       "      <td>61424.77</td>\n",
       "      <td>61450.12</td>\n",
       "      <td>3.468380</td>\n",
       "      <td>2.131324e+05</td>\n",
       "    </tr>\n",
       "    <tr>\n",
       "      <th>135002</th>\n",
       "      <td>1638006000</td>\n",
       "      <td>2021-11-27 09:40:00</td>\n",
       "      <td>BTC/USD</td>\n",
       "      <td>54877.51</td>\n",
       "      <td>54898.41</td>\n",
       "      <td>54863.35</td>\n",
       "      <td>54863.35</td>\n",
       "      <td>1.138505</td>\n",
       "      <td>6.246219e+04</td>\n",
       "    </tr>\n",
       "  </tbody>\n",
       "</table>\n",
       "</div>"
      ],
      "text/plain": [
       "              unix                 date   symbol      open      high  \\\n",
       "403087  1621920900  2021-05-25 05:35:00  BTC/USD  38050.31  38052.97   \n",
       "209466  1633538160  2021-10-06 16:36:00  BTC/USD  54528.44  54530.72   \n",
       "577022  1611484800  2021-01-24 10:40:00  BTC/USD  32601.83  32613.12   \n",
       "378315  1623407220  2021-06-11 10:27:00  BTC/USD  37450.05  37450.05   \n",
       "445632  1619368200  2021-04-25 16:30:00  BTC/USD  50232.68  50246.42   \n",
       "128182  1638415200  2021-12-02 03:20:00  BTC/USD  55966.88  55995.62   \n",
       "599534  1610134080  2021-01-08 19:28:00  BTC/USD  40225.00  40281.63   \n",
       "529745  1614321420  2021-02-26 06:37:00  BTC/USD  46143.14  46230.00   \n",
       "191962  1634588400  2021-10-18 20:20:00  BTC/USD  61429.17  61463.24   \n",
       "135002  1638006000  2021-11-27 09:40:00  BTC/USD  54877.51  54898.41   \n",
       "\n",
       "             low     close  Volume BTC    Volume USD  \n",
       "403087  37996.32  37996.32    2.125288  8.075313e+04  \n",
       "209466  54477.46  54513.62    0.282988  1.542668e+04  \n",
       "577022  32599.99  32599.99    0.745307  2.429699e+04  \n",
       "378315  37400.05  37409.86   52.338171  1.957964e+06  \n",
       "445632  50229.66  50229.66    0.311046  1.562372e+04  \n",
       "128182  55851.50  55861.77    6.547631  3.657623e+05  \n",
       "599534  40201.84  40215.01   39.898466  1.604517e+06  \n",
       "529745  46120.70  46230.00    0.395695  1.829297e+04  \n",
       "191962  61424.77  61450.12    3.468380  2.131324e+05  \n",
       "135002  54863.35  54863.35    1.138505  6.246219e+04  "
      ]
     },
     "execution_count": 10,
     "metadata": {},
     "output_type": "execute_result"
    }
   ],
   "source": [
    "bs.sample(10)"
   ]
  },
  {
   "cell_type": "code",
   "execution_count": 11,
   "id": "63c64b36",
   "metadata": {},
   "outputs": [],
   "source": [
    "bs=bs.drop_duplicates()"
   ]
  },
  {
   "cell_type": "code",
   "execution_count": 12,
   "id": "6d85c394",
   "metadata": {},
   "outputs": [
    {
     "data": {
      "text/plain": [
       "(610782, 9)"
      ]
     },
     "execution_count": 12,
     "metadata": {},
     "output_type": "execute_result"
    }
   ],
   "source": [
    "bs.shape"
   ]
  },
  {
   "cell_type": "code",
   "execution_count": 13,
   "id": "ec2b66d1",
   "metadata": {},
   "outputs": [
    {
     "data": {
      "text/plain": [
       "Index(['unix', 'date', 'symbol', 'open', 'high', 'low', 'close', 'Volume BTC',\n",
       "       'Volume USD'],\n",
       "      dtype='object')"
      ]
     },
     "execution_count": 13,
     "metadata": {},
     "output_type": "execute_result"
    }
   ],
   "source": [
    "bs.columns"
   ]
  },
  {
   "cell_type": "code",
   "execution_count": 14,
   "id": "9f220037",
   "metadata": {},
   "outputs": [
    {
     "name": "stdout",
     "output_type": "stream",
     "text": [
      "0\n"
     ]
    }
   ],
   "source": [
    "print(bs[bs['unix']==0].shape[0])"
   ]
  },
  {
   "cell_type": "code",
   "execution_count": 15,
   "id": "ee24a0a0",
   "metadata": {},
   "outputs": [
    {
     "name": "stdout",
     "output_type": "stream",
     "text": [
      "0\n"
     ]
    }
   ],
   "source": [
    "print(bs[bs['date']==0].shape[0])"
   ]
  },
  {
   "cell_type": "code",
   "execution_count": 16,
   "id": "43ee6e86",
   "metadata": {},
   "outputs": [
    {
     "name": "stdout",
     "output_type": "stream",
     "text": [
      "0\n"
     ]
    }
   ],
   "source": [
    "print(bs[bs['symbol']==0].shape[0])"
   ]
  },
  {
   "cell_type": "code",
   "execution_count": 17,
   "id": "654e9787",
   "metadata": {},
   "outputs": [
    {
     "name": "stdout",
     "output_type": "stream",
     "text": [
      "0\n"
     ]
    }
   ],
   "source": [
    "print(bs[bs['open']==0].shape[0])"
   ]
  },
  {
   "cell_type": "code",
   "execution_count": 18,
   "id": "52b6fa5c",
   "metadata": {},
   "outputs": [
    {
     "name": "stdout",
     "output_type": "stream",
     "text": [
      "0\n"
     ]
    }
   ],
   "source": [
    "print(bs[bs['high']==0].shape[0])"
   ]
  },
  {
   "cell_type": "code",
   "execution_count": 19,
   "id": "6ac651d4",
   "metadata": {},
   "outputs": [
    {
     "name": "stdout",
     "output_type": "stream",
     "text": [
      "0\n"
     ]
    }
   ],
   "source": [
    "print(bs[bs['low']==0].shape[0])"
   ]
  },
  {
   "cell_type": "code",
   "execution_count": 20,
   "id": "5046723c",
   "metadata": {},
   "outputs": [
    {
     "name": "stdout",
     "output_type": "stream",
     "text": [
      "0\n"
     ]
    }
   ],
   "source": [
    "print(bs[bs['close']==0].shape[0])"
   ]
  },
  {
   "cell_type": "code",
   "execution_count": 21,
   "id": "eb4aa59b",
   "metadata": {},
   "outputs": [
    {
     "name": "stdout",
     "output_type": "stream",
     "text": [
      "5107\n"
     ]
    }
   ],
   "source": [
    "print(bs[bs['Volume BTC']==0].shape[0])"
   ]
  },
  {
   "cell_type": "code",
   "execution_count": 22,
   "id": "136e6612",
   "metadata": {},
   "outputs": [
    {
     "name": "stdout",
     "output_type": "stream",
     "text": [
      "5107\n"
     ]
    }
   ],
   "source": [
    "print(bs[bs['Volume USD']==0].shape[0])"
   ]
  },
  {
   "cell_type": "code",
   "execution_count": 23,
   "id": "2d4cbb2f",
   "metadata": {},
   "outputs": [
    {
     "name": "stdout",
     "output_type": "stream",
     "text": [
      "0\n"
     ]
    }
   ],
   "source": [
    "bs['Volume BTC']=bs['Volume BTC'].replace(0,bs['Volume BTC'].mean())\n",
    "print(bs[bs['Volume BTC']==0].shape[0])"
   ]
  },
  {
   "cell_type": "code",
   "execution_count": 24,
   "id": "322c0cda",
   "metadata": {},
   "outputs": [
    {
     "name": "stdout",
     "output_type": "stream",
     "text": [
      "0\n"
     ]
    }
   ],
   "source": [
    "bs['Volume USD']=bs['Volume USD'].replace(0,bs['Volume USD'].mean())\n",
    "print(bs[bs['Volume USD']==0].shape[0])"
   ]
  },
  {
   "cell_type": "code",
   "execution_count": 25,
   "id": "5557ad76",
   "metadata": {},
   "outputs": [
    {
     "data": {
      "text/html": [
       "<div>\n",
       "<style scoped>\n",
       "    .dataframe tbody tr th:only-of-type {\n",
       "        vertical-align: middle;\n",
       "    }\n",
       "\n",
       "    .dataframe tbody tr th {\n",
       "        vertical-align: top;\n",
       "    }\n",
       "\n",
       "    .dataframe thead th {\n",
       "        text-align: right;\n",
       "    }\n",
       "</style>\n",
       "<table border=\"1\" class=\"dataframe\">\n",
       "  <thead>\n",
       "    <tr style=\"text-align: right;\">\n",
       "      <th></th>\n",
       "      <th>unix</th>\n",
       "      <th>open</th>\n",
       "      <th>high</th>\n",
       "      <th>low</th>\n",
       "      <th>close</th>\n",
       "      <th>Volume BTC</th>\n",
       "      <th>Volume USD</th>\n",
       "    </tr>\n",
       "  </thead>\n",
       "  <tbody>\n",
       "    <tr>\n",
       "      <th>count</th>\n",
       "      <td>6.107820e+05</td>\n",
       "      <td>610782.000000</td>\n",
       "      <td>610782.000000</td>\n",
       "      <td>610782.000000</td>\n",
       "      <td>610782.000000</td>\n",
       "      <td>6.107820e+05</td>\n",
       "      <td>6.107820e+05</td>\n",
       "    </tr>\n",
       "    <tr>\n",
       "      <th>mean</th>\n",
       "      <td>1.627783e+09</td>\n",
       "      <td>46482.265381</td>\n",
       "      <td>46509.783597</td>\n",
       "      <td>46454.085712</td>\n",
       "      <td>46482.567211</td>\n",
       "      <td>3.191720e+00</td>\n",
       "      <td>1.401092e+05</td>\n",
       "    </tr>\n",
       "    <tr>\n",
       "      <th>std</th>\n",
       "      <td>1.057906e+07</td>\n",
       "      <td>9453.990285</td>\n",
       "      <td>9454.798088</td>\n",
       "      <td>9453.135638</td>\n",
       "      <td>9454.107853</td>\n",
       "      <td>7.887968e+00</td>\n",
       "      <td>3.295599e+05</td>\n",
       "    </tr>\n",
       "    <tr>\n",
       "      <th>min</th>\n",
       "      <td>1.609459e+09</td>\n",
       "      <td>28093.810000</td>\n",
       "      <td>28397.520000</td>\n",
       "      <td>27734.000000</td>\n",
       "      <td>28073.030000</td>\n",
       "      <td>1.000000e-08</td>\n",
       "      <td>3.382373e-04</td>\n",
       "    </tr>\n",
       "    <tr>\n",
       "      <th>25%</th>\n",
       "      <td>1.618621e+09</td>\n",
       "      <td>38129.052500</td>\n",
       "      <td>38157.882500</td>\n",
       "      <td>38099.437500</td>\n",
       "      <td>38129.137500</td>\n",
       "      <td>2.062705e-01</td>\n",
       "      <td>9.503485e+03</td>\n",
       "    </tr>\n",
       "    <tr>\n",
       "      <th>50%</th>\n",
       "      <td>1.627783e+09</td>\n",
       "      <td>46666.960000</td>\n",
       "      <td>46697.745000</td>\n",
       "      <td>46636.710000</td>\n",
       "      <td>46667.295000</td>\n",
       "      <td>9.653736e-01</td>\n",
       "      <td>4.368229e+04</td>\n",
       "    </tr>\n",
       "    <tr>\n",
       "      <th>75%</th>\n",
       "      <td>1.636944e+09</td>\n",
       "      <td>54907.797500</td>\n",
       "      <td>54938.655000</td>\n",
       "      <td>54877.405000</td>\n",
       "      <td>54907.412500</td>\n",
       "      <td>3.117177e+00</td>\n",
       "      <td>1.389474e+05</td>\n",
       "    </tr>\n",
       "    <tr>\n",
       "      <th>max</th>\n",
       "      <td>1.646106e+09</td>\n",
       "      <td>69000.000000</td>\n",
       "      <td>69000.000000</td>\n",
       "      <td>68799.990000</td>\n",
       "      <td>69000.000000</td>\n",
       "      <td>3.985659e+02</td>\n",
       "      <td>1.396792e+07</td>\n",
       "    </tr>\n",
       "  </tbody>\n",
       "</table>\n",
       "</div>"
      ],
      "text/plain": [
       "               unix           open           high            low  \\\n",
       "count  6.107820e+05  610782.000000  610782.000000  610782.000000   \n",
       "mean   1.627783e+09   46482.265381   46509.783597   46454.085712   \n",
       "std    1.057906e+07    9453.990285    9454.798088    9453.135638   \n",
       "min    1.609459e+09   28093.810000   28397.520000   27734.000000   \n",
       "25%    1.618621e+09   38129.052500   38157.882500   38099.437500   \n",
       "50%    1.627783e+09   46666.960000   46697.745000   46636.710000   \n",
       "75%    1.636944e+09   54907.797500   54938.655000   54877.405000   \n",
       "max    1.646106e+09   69000.000000   69000.000000   68799.990000   \n",
       "\n",
       "               close    Volume BTC    Volume USD  \n",
       "count  610782.000000  6.107820e+05  6.107820e+05  \n",
       "mean    46482.567211  3.191720e+00  1.401092e+05  \n",
       "std      9454.107853  7.887968e+00  3.295599e+05  \n",
       "min     28073.030000  1.000000e-08  3.382373e-04  \n",
       "25%     38129.137500  2.062705e-01  9.503485e+03  \n",
       "50%     46667.295000  9.653736e-01  4.368229e+04  \n",
       "75%     54907.412500  3.117177e+00  1.389474e+05  \n",
       "max     69000.000000  3.985659e+02  1.396792e+07  "
      ]
     },
     "execution_count": 25,
     "metadata": {},
     "output_type": "execute_result"
    }
   ],
   "source": [
    "bs.describe()"
   ]
  },
  {
   "cell_type": "code",
   "execution_count": 26,
   "id": "de208a8f",
   "metadata": {},
   "outputs": [],
   "source": [
    "# Encoding categorical variable\n",
    "cat_values=[]\n",
    "num_values=[]\n",
    "for columns in bs.columns:\n",
    "    if bs[columns].nunique()<=10:\n",
    "        cat_values.append(columns)\n",
    "    else:\n",
    "        num_values.append(columns)"
   ]
  },
  {
   "cell_type": "code",
   "execution_count": 27,
   "id": "6246ad15",
   "metadata": {},
   "outputs": [
    {
     "data": {
      "text/plain": [
       "['symbol']"
      ]
     },
     "execution_count": 27,
     "metadata": {},
     "output_type": "execute_result"
    }
   ],
   "source": [
    "cat_values"
   ]
  },
  {
   "cell_type": "code",
   "execution_count": 28,
   "id": "99e83c67",
   "metadata": {},
   "outputs": [
    {
     "data": {
      "text/plain": [
       "['unix', 'date', 'open', 'high', 'low', 'close', 'Volume BTC', 'Volume USD']"
      ]
     },
     "execution_count": 28,
     "metadata": {},
     "output_type": "execute_result"
    }
   ],
   "source": [
    "num_values"
   ]
  },
  {
   "cell_type": "code",
   "execution_count": 29,
   "id": "2e0ee751",
   "metadata": {},
   "outputs": [
    {
     "data": {
      "text/plain": [
       "array(['BTC/USD'], dtype=object)"
      ]
     },
     "execution_count": 29,
     "metadata": {},
     "output_type": "execute_result"
    }
   ],
   "source": [
    "bs['symbol'].unique()"
   ]
  },
  {
   "cell_type": "markdown",
   "id": "1fb0d03e",
   "metadata": {},
   "source": [
    "# EDA"
   ]
  },
  {
   "cell_type": "code",
   "execution_count": 30,
   "id": "997a400a",
   "metadata": {},
   "outputs": [
    {
     "data": {
      "image/png": "[encoded data removed]",
      "text/plain": [
       "<Figure size 1500x500 with 1 Axes>"
      ]
     },
     "metadata": {},
     "output_type": "display_data"
    }
   ],
   "source": [
    "plt.figure(figsize=(15,5))\n",
    "plt.plot(bs['close'])\n",
    "plt.title('Bitcoin close price', fontsize=15)\n",
    "plt.ylabel('Price in dollers')\n",
    "plt.show()"
   ]
  },
  {
   "cell_type": "code",
   "execution_count": 31,
   "id": "dbf01dbf",
   "metadata": {},
   "outputs": [
    {
     "data": {
      "text/html": [
       "<div>\n",
       "<style scoped>\n",
       "    .dataframe tbody tr th:only-of-type {\n",
       "        vertical-align: middle;\n",
       "    }\n",
       "\n",
       "    .dataframe tbody tr th {\n",
       "        vertical-align: top;\n",
       "    }\n",
       "\n",
       "    .dataframe thead th {\n",
       "        text-align: right;\n",
       "    }\n",
       "</style>\n",
       "<table border=\"1\" class=\"dataframe\">\n",
       "  <thead>\n",
       "    <tr style=\"text-align: right;\">\n",
       "      <th></th>\n",
       "      <th>date</th>\n",
       "      <th>symbol</th>\n",
       "      <th>open</th>\n",
       "      <th>high</th>\n",
       "      <th>low</th>\n",
       "      <th>close</th>\n",
       "      <th>Volume BTC</th>\n",
       "      <th>Volume USD</th>\n",
       "    </tr>\n",
       "  </thead>\n",
       "  <tbody>\n",
       "    <tr>\n",
       "      <th>0</th>\n",
       "      <td>2022-03-01 03:43:00</td>\n",
       "      <td>BTC/USD</td>\n",
       "      <td>43046.58</td>\n",
       "      <td>43046.58</td>\n",
       "      <td>43046.58</td>\n",
       "      <td>43046.58</td>\n",
       "      <td>3.165254</td>\n",
       "      <td>138947.357197</td>\n",
       "    </tr>\n",
       "    <tr>\n",
       "      <th>1</th>\n",
       "      <td>2022-03-01 03:41:00</td>\n",
       "      <td>BTC/USD</td>\n",
       "      <td>43018.23</td>\n",
       "      <td>43046.59</td>\n",
       "      <td>43018.23</td>\n",
       "      <td>43046.58</td>\n",
       "      <td>0.142977</td>\n",
       "      <td>6154.673021</td>\n",
       "    </tr>\n",
       "    <tr>\n",
       "      <th>2</th>\n",
       "      <td>2022-03-01 03:40:00</td>\n",
       "      <td>BTC/USD</td>\n",
       "      <td>43022.24</td>\n",
       "      <td>43022.24</td>\n",
       "      <td>43016.03</td>\n",
       "      <td>43016.03</td>\n",
       "      <td>0.009230</td>\n",
       "      <td>397.037957</td>\n",
       "    </tr>\n",
       "    <tr>\n",
       "      <th>3</th>\n",
       "      <td>2022-03-01 03:39:00</td>\n",
       "      <td>BTC/USD</td>\n",
       "      <td>43035.16</td>\n",
       "      <td>43035.16</td>\n",
       "      <td>42999.44</td>\n",
       "      <td>42999.44</td>\n",
       "      <td>0.820950</td>\n",
       "      <td>35300.390268</td>\n",
       "    </tr>\n",
       "    <tr>\n",
       "      <th>4</th>\n",
       "      <td>2022-03-01 03:38:00</td>\n",
       "      <td>BTC/USD</td>\n",
       "      <td>43077.82</td>\n",
       "      <td>43077.82</td>\n",
       "      <td>43049.46</td>\n",
       "      <td>43049.46</td>\n",
       "      <td>0.022210</td>\n",
       "      <td>956.143143</td>\n",
       "    </tr>\n",
       "    <tr>\n",
       "      <th>...</th>\n",
       "      <td>...</td>\n",
       "      <td>...</td>\n",
       "      <td>...</td>\n",
       "      <td>...</td>\n",
       "      <td>...</td>\n",
       "      <td>...</td>\n",
       "      <td>...</td>\n",
       "      <td>...</td>\n",
       "    </tr>\n",
       "    <tr>\n",
       "      <th>610777</th>\n",
       "      <td>2021-01-01 00:05:00</td>\n",
       "      <td>BTC/USD</td>\n",
       "      <td>29021.86</td>\n",
       "      <td>29023.38</td>\n",
       "      <td>28982.33</td>\n",
       "      <td>28999.50</td>\n",
       "      <td>1.062360</td>\n",
       "      <td>30807.899250</td>\n",
       "    </tr>\n",
       "    <tr>\n",
       "      <th>610778</th>\n",
       "      <td>2021-01-01 00:04:00</td>\n",
       "      <td>BTC/USD</td>\n",
       "      <td>29048.13</td>\n",
       "      <td>29057.73</td>\n",
       "      <td>29035.61</td>\n",
       "      <td>29045.19</td>\n",
       "      <td>1.446538</td>\n",
       "      <td>42014.959434</td>\n",
       "    </tr>\n",
       "    <tr>\n",
       "      <th>610779</th>\n",
       "      <td>2021-01-01 00:03:00</td>\n",
       "      <td>BTC/USD</td>\n",
       "      <td>29037.68</td>\n",
       "      <td>29069.39</td>\n",
       "      <td>29019.00</td>\n",
       "      <td>29048.13</td>\n",
       "      <td>2.189621</td>\n",
       "      <td>63604.382387</td>\n",
       "    </tr>\n",
       "    <tr>\n",
       "      <th>610780</th>\n",
       "      <td>2021-01-01 00:02:00</td>\n",
       "      <td>BTC/USD</td>\n",
       "      <td>29069.80</td>\n",
       "      <td>29073.02</td>\n",
       "      <td>29028.14</td>\n",
       "      <td>29035.89</td>\n",
       "      <td>3.030301</td>\n",
       "      <td>87987.499279</td>\n",
       "    </tr>\n",
       "    <tr>\n",
       "      <th>610781</th>\n",
       "      <td>2021-01-01 00:01:00</td>\n",
       "      <td>BTC/USD</td>\n",
       "      <td>29007.31</td>\n",
       "      <td>29086.90</td>\n",
       "      <td>29007.31</td>\n",
       "      <td>29083.47</td>\n",
       "      <td>14.561951</td>\n",
       "      <td>423512.060397</td>\n",
       "    </tr>\n",
       "  </tbody>\n",
       "</table>\n",
       "<p>610782 rows × 8 columns</p>\n",
       "</div>"
      ],
      "text/plain": [
       "                       date   symbol      open      high       low     close  \\\n",
       "0       2022-03-01 03:43:00  BTC/USD  43046.58  43046.58  43046.58  43046.58   \n",
       "1       2022-03-01 03:41:00  BTC/USD  43018.23  43046.59  43018.23  43046.58   \n",
       "2       2022-03-01 03:40:00  BTC/USD  43022.24  43022.24  43016.03  43016.03   \n",
       "3       2022-03-01 03:39:00  BTC/USD  43035.16  43035.16  42999.44  42999.44   \n",
       "4       2022-03-01 03:38:00  BTC/USD  43077.82  43077.82  43049.46  43049.46   \n",
       "...                     ...      ...       ...       ...       ...       ...   \n",
       "610777  2021-01-01 00:05:00  BTC/USD  29021.86  29023.38  28982.33  28999.50   \n",
       "610778  2021-01-01 00:04:00  BTC/USD  29048.13  29057.73  29035.61  29045.19   \n",
       "610779  2021-01-01 00:03:00  BTC/USD  29037.68  29069.39  29019.00  29048.13   \n",
       "610780  2021-01-01 00:02:00  BTC/USD  29069.80  29073.02  29028.14  29035.89   \n",
       "610781  2021-01-01 00:01:00  BTC/USD  29007.31  29086.90  29007.31  29083.47   \n",
       "\n",
       "        Volume BTC     Volume USD  \n",
       "0         3.165254  138947.357197  \n",
       "1         0.142977    6154.673021  \n",
       "2         0.009230     397.037957  \n",
       "3         0.820950   35300.390268  \n",
       "4         0.022210     956.143143  \n",
       "...            ...            ...  \n",
       "610777    1.062360   30807.899250  \n",
       "610778    1.446538   42014.959434  \n",
       "610779    2.189621   63604.382387  \n",
       "610780    3.030301   87987.499279  \n",
       "610781   14.561951  423512.060397  \n",
       "\n",
       "[610782 rows x 8 columns]"
      ]
     },
     "execution_count": 31,
     "metadata": {},
     "output_type": "execute_result"
    }
   ],
   "source": [
    "bs=bs.drop(['unix'],axis=1)\n",
    "bs"
   ]
  },
  {
   "cell_type": "code",
   "execution_count": 32,
   "id": "aaebfc76",
   "metadata": {},
   "outputs": [
    {
     "data": {
      "text/plain": [
       "<AxesSubplot:xlabel='low', ylabel='Density'>"
      ]
     },
     "execution_count": 32,
     "metadata": {},
     "output_type": "execute_result"
    },
    {
     "data": {
      "image/png": "[encoded data removed]",
      "text/plain": [
       "<Figure size 640x480 with 1 Axes>"
      ]
     },
     "metadata": {},
     "output_type": "display_data"
    }
   ],
   "source": [
    "sns.kdeplot(bs['low'])"
   ]
  },
  {
   "cell_type": "code",
   "execution_count": 33,
   "id": "a6799598",
   "metadata": {},
   "outputs": [
    {
     "data": {
      "image/png": "[encoded data removed]",
      "text/plain": [
       "<Figure size 2000x1000 with 4 Axes>"
      ]
     },
     "metadata": {},
     "output_type": "display_data"
    }
   ],
   "source": [
    "features=['open','high','low','close']\n",
    "plt.subplots(figsize=(20,10))\n",
    "for i,col in enumerate(features):\n",
    "    plt.subplot(2,2,i+1)\n",
    "    sns.boxplot(bs[col])\n",
    "plt.show()"
   ]
  },
  {
   "cell_type": "code",
   "execution_count": 34,
   "id": "c040775a",
   "metadata": {},
   "outputs": [
    {
     "data": {
      "text/html": [
       "<div>\n",
       "<style scoped>\n",
       "    .dataframe tbody tr th:only-of-type {\n",
       "        vertical-align: middle;\n",
       "    }\n",
       "\n",
       "    .dataframe tbody tr th {\n",
       "        vertical-align: top;\n",
       "    }\n",
       "\n",
       "    .dataframe thead th {\n",
       "        text-align: right;\n",
       "    }\n",
       "</style>\n",
       "<table border=\"1\" class=\"dataframe\">\n",
       "  <thead>\n",
       "    <tr style=\"text-align: right;\">\n",
       "      <th></th>\n",
       "      <th>date</th>\n",
       "      <th>symbol</th>\n",
       "      <th>open</th>\n",
       "      <th>high</th>\n",
       "      <th>low</th>\n",
       "      <th>close</th>\n",
       "      <th>Volume BTC</th>\n",
       "      <th>Volume USD</th>\n",
       "      <th>Dates</th>\n",
       "      <th>Time</th>\n",
       "    </tr>\n",
       "  </thead>\n",
       "  <tbody>\n",
       "    <tr>\n",
       "      <th>0</th>\n",
       "      <td>2022-03-01 03:43:00</td>\n",
       "      <td>BTC/USD</td>\n",
       "      <td>43046.58</td>\n",
       "      <td>43046.58</td>\n",
       "      <td>43046.58</td>\n",
       "      <td>43046.58</td>\n",
       "      <td>3.165254</td>\n",
       "      <td>138947.357197</td>\n",
       "      <td>2022-03-01</td>\n",
       "      <td>03:43:00</td>\n",
       "    </tr>\n",
       "    <tr>\n",
       "      <th>1</th>\n",
       "      <td>2022-03-01 03:41:00</td>\n",
       "      <td>BTC/USD</td>\n",
       "      <td>43018.23</td>\n",
       "      <td>43046.59</td>\n",
       "      <td>43018.23</td>\n",
       "      <td>43046.58</td>\n",
       "      <td>0.142977</td>\n",
       "      <td>6154.673021</td>\n",
       "      <td>2022-03-01</td>\n",
       "      <td>03:41:00</td>\n",
       "    </tr>\n",
       "    <tr>\n",
       "      <th>2</th>\n",
       "      <td>2022-03-01 03:40:00</td>\n",
       "      <td>BTC/USD</td>\n",
       "      <td>43022.24</td>\n",
       "      <td>43022.24</td>\n",
       "      <td>43016.03</td>\n",
       "      <td>43016.03</td>\n",
       "      <td>0.009230</td>\n",
       "      <td>397.037957</td>\n",
       "      <td>2022-03-01</td>\n",
       "      <td>03:40:00</td>\n",
       "    </tr>\n",
       "    <tr>\n",
       "      <th>3</th>\n",
       "      <td>2022-03-01 03:39:00</td>\n",
       "      <td>BTC/USD</td>\n",
       "      <td>43035.16</td>\n",
       "      <td>43035.16</td>\n",
       "      <td>42999.44</td>\n",
       "      <td>42999.44</td>\n",
       "      <td>0.820950</td>\n",
       "      <td>35300.390268</td>\n",
       "      <td>2022-03-01</td>\n",
       "      <td>03:39:00</td>\n",
       "    </tr>\n",
       "    <tr>\n",
       "      <th>4</th>\n",
       "      <td>2022-03-01 03:38:00</td>\n",
       "      <td>BTC/USD</td>\n",
       "      <td>43077.82</td>\n",
       "      <td>43077.82</td>\n",
       "      <td>43049.46</td>\n",
       "      <td>43049.46</td>\n",
       "      <td>0.022210</td>\n",
       "      <td>956.143143</td>\n",
       "      <td>2022-03-01</td>\n",
       "      <td>03:38:00</td>\n",
       "    </tr>\n",
       "  </tbody>\n",
       "</table>\n",
       "</div>"
      ],
      "text/plain": [
       "                  date   symbol      open      high       low     close  \\\n",
       "0  2022-03-01 03:43:00  BTC/USD  43046.58  43046.58  43046.58  43046.58   \n",
       "1  2022-03-01 03:41:00  BTC/USD  43018.23  43046.59  43018.23  43046.58   \n",
       "2  2022-03-01 03:40:00  BTC/USD  43022.24  43022.24  43016.03  43016.03   \n",
       "3  2022-03-01 03:39:00  BTC/USD  43035.16  43035.16  42999.44  42999.44   \n",
       "4  2022-03-01 03:38:00  BTC/USD  43077.82  43077.82  43049.46  43049.46   \n",
       "\n",
       "   Volume BTC     Volume USD       Dates      Time  \n",
       "0    3.165254  138947.357197  2022-03-01  03:43:00  \n",
       "1    0.142977    6154.673021  2022-03-01  03:41:00  \n",
       "2    0.009230     397.037957  2022-03-01  03:40:00  \n",
       "3    0.820950   35300.390268  2022-03-01  03:39:00  \n",
       "4    0.022210     956.143143  2022-03-01  03:38:00  "
      ]
     },
     "execution_count": 34,
     "metadata": {},
     "output_type": "execute_result"
    }
   ],
   "source": [
    "bs['Dates'] = pd.to_datetime(bs['date']).dt.date\n",
    "bs['Time'] = pd.to_datetime(bs['date']).dt.time\n",
    "bs.head()"
   ]
  },
  {
   "cell_type": "code",
   "execution_count": 35,
   "id": "caca238c",
   "metadata": {},
   "outputs": [
    {
     "data": {
      "text/html": [
       "<div>\n",
       "<style scoped>\n",
       "    .dataframe tbody tr th:only-of-type {\n",
       "        vertical-align: middle;\n",
       "    }\n",
       "\n",
       "    .dataframe tbody tr th {\n",
       "        vertical-align: top;\n",
       "    }\n",
       "\n",
       "    .dataframe thead th {\n",
       "        text-align: right;\n",
       "    }\n",
       "</style>\n",
       "<table border=\"1\" class=\"dataframe\">\n",
       "  <thead>\n",
       "    <tr style=\"text-align: right;\">\n",
       "      <th></th>\n",
       "      <th>date</th>\n",
       "      <th>symbol</th>\n",
       "      <th>open</th>\n",
       "      <th>high</th>\n",
       "      <th>low</th>\n",
       "      <th>close</th>\n",
       "      <th>Volume BTC</th>\n",
       "      <th>Volume USD</th>\n",
       "      <th>Dates</th>\n",
       "      <th>Time</th>\n",
       "      <th>year</th>\n",
       "      <th>month</th>\n",
       "    </tr>\n",
       "  </thead>\n",
       "  <tbody>\n",
       "    <tr>\n",
       "      <th>0</th>\n",
       "      <td>2022-03-01 03:43:00</td>\n",
       "      <td>BTC/USD</td>\n",
       "      <td>43046.58</td>\n",
       "      <td>43046.58</td>\n",
       "      <td>43046.58</td>\n",
       "      <td>43046.58</td>\n",
       "      <td>3.165254</td>\n",
       "      <td>138947.357197</td>\n",
       "      <td>2022-03-01</td>\n",
       "      <td>03:43:00</td>\n",
       "      <td>2022</td>\n",
       "      <td>3</td>\n",
       "    </tr>\n",
       "    <tr>\n",
       "      <th>1</th>\n",
       "      <td>2022-03-01 03:41:00</td>\n",
       "      <td>BTC/USD</td>\n",
       "      <td>43018.23</td>\n",
       "      <td>43046.59</td>\n",
       "      <td>43018.23</td>\n",
       "      <td>43046.58</td>\n",
       "      <td>0.142977</td>\n",
       "      <td>6154.673021</td>\n",
       "      <td>2022-03-01</td>\n",
       "      <td>03:41:00</td>\n",
       "      <td>2022</td>\n",
       "      <td>3</td>\n",
       "    </tr>\n",
       "    <tr>\n",
       "      <th>2</th>\n",
       "      <td>2022-03-01 03:40:00</td>\n",
       "      <td>BTC/USD</td>\n",
       "      <td>43022.24</td>\n",
       "      <td>43022.24</td>\n",
       "      <td>43016.03</td>\n",
       "      <td>43016.03</td>\n",
       "      <td>0.009230</td>\n",
       "      <td>397.037957</td>\n",
       "      <td>2022-03-01</td>\n",
       "      <td>03:40:00</td>\n",
       "      <td>2022</td>\n",
       "      <td>3</td>\n",
       "    </tr>\n",
       "    <tr>\n",
       "      <th>3</th>\n",
       "      <td>2022-03-01 03:39:00</td>\n",
       "      <td>BTC/USD</td>\n",
       "      <td>43035.16</td>\n",
       "      <td>43035.16</td>\n",
       "      <td>42999.44</td>\n",
       "      <td>42999.44</td>\n",
       "      <td>0.820950</td>\n",
       "      <td>35300.390268</td>\n",
       "      <td>2022-03-01</td>\n",
       "      <td>03:39:00</td>\n",
       "      <td>2022</td>\n",
       "      <td>3</td>\n",
       "    </tr>\n",
       "    <tr>\n",
       "      <th>4</th>\n",
       "      <td>2022-03-01 03:38:00</td>\n",
       "      <td>BTC/USD</td>\n",
       "      <td>43077.82</td>\n",
       "      <td>43077.82</td>\n",
       "      <td>43049.46</td>\n",
       "      <td>43049.46</td>\n",
       "      <td>0.022210</td>\n",
       "      <td>956.143143</td>\n",
       "      <td>2022-03-01</td>\n",
       "      <td>03:38:00</td>\n",
       "      <td>2022</td>\n",
       "      <td>3</td>\n",
       "    </tr>\n",
       "  </tbody>\n",
       "</table>\n",
       "</div>"
      ],
      "text/plain": [
       "                  date   symbol      open      high       low     close  \\\n",
       "0  2022-03-01 03:43:00  BTC/USD  43046.58  43046.58  43046.58  43046.58   \n",
       "1  2022-03-01 03:41:00  BTC/USD  43018.23  43046.59  43018.23  43046.58   \n",
       "2  2022-03-01 03:40:00  BTC/USD  43022.24  43022.24  43016.03  43016.03   \n",
       "3  2022-03-01 03:39:00  BTC/USD  43035.16  43035.16  42999.44  42999.44   \n",
       "4  2022-03-01 03:38:00  BTC/USD  43077.82  43077.82  43049.46  43049.46   \n",
       "\n",
       "   Volume BTC     Volume USD       Dates      Time  year  month  \n",
       "0    3.165254  138947.357197  2022-03-01  03:43:00  2022      3  \n",
       "1    0.142977    6154.673021  2022-03-01  03:41:00  2022      3  \n",
       "2    0.009230     397.037957  2022-03-01  03:40:00  2022      3  \n",
       "3    0.820950   35300.390268  2022-03-01  03:39:00  2022      3  \n",
       "4    0.022210     956.143143  2022-03-01  03:38:00  2022      3  "
      ]
     },
     "execution_count": 35,
     "metadata": {},
     "output_type": "execute_result"
    }
   ],
   "source": [
    "bs['year'] = pd.DatetimeIndex(bs['Dates']).year\n",
    "bs['month'] = pd.DatetimeIndex(bs['Dates']).month\n",
    "bs.head()"
   ]
  },
  {
   "cell_type": "code",
   "execution_count": 36,
   "id": "df89e696",
   "metadata": {},
   "outputs": [
    {
     "data": {
      "image/png": "[encoded data removed]",
      "text/plain": [
       "<Figure size 2000x1000 with 1 Axes>"
      ]
     },
     "metadata": {},
     "output_type": "display_data"
    }
   ],
   "source": [
    "data_grouped = bs.groupby('year').mean()\n",
    "plt.subplots(figsize=(20,10))\n",
    "for i,col in enumerate(features):\n",
    "   \n",
    "    data_grouped[col].plot.bar()\n",
    "plt.show()"
   ]
  },
  {
   "cell_type": "code",
   "execution_count": 37,
   "id": "59274cfc",
   "metadata": {},
   "outputs": [
    {
     "data": {
      "text/html": [
       "<div>\n",
       "<style scoped>\n",
       "    .dataframe tbody tr th:only-of-type {\n",
       "        vertical-align: middle;\n",
       "    }\n",
       "\n",
       "    .dataframe tbody tr th {\n",
       "        vertical-align: top;\n",
       "    }\n",
       "\n",
       "    .dataframe thead th {\n",
       "        text-align: right;\n",
       "    }\n",
       "</style>\n",
       "<table border=\"1\" class=\"dataframe\">\n",
       "  <thead>\n",
       "    <tr style=\"text-align: right;\">\n",
       "      <th></th>\n",
       "      <th>date</th>\n",
       "      <th>symbol</th>\n",
       "      <th>open</th>\n",
       "      <th>high</th>\n",
       "      <th>low</th>\n",
       "      <th>close</th>\n",
       "      <th>Volume BTC</th>\n",
       "      <th>Volume USD</th>\n",
       "      <th>Dates</th>\n",
       "      <th>Time</th>\n",
       "      <th>year</th>\n",
       "      <th>month</th>\n",
       "      <th>open-close</th>\n",
       "      <th>low-high</th>\n",
       "      <th>target</th>\n",
       "    </tr>\n",
       "  </thead>\n",
       "  <tbody>\n",
       "    <tr>\n",
       "      <th>0</th>\n",
       "      <td>2022-03-01 03:43:00</td>\n",
       "      <td>BTC/USD</td>\n",
       "      <td>43046.58</td>\n",
       "      <td>43046.58</td>\n",
       "      <td>43046.58</td>\n",
       "      <td>43046.58</td>\n",
       "      <td>3.165254</td>\n",
       "      <td>138947.357197</td>\n",
       "      <td>2022-03-01</td>\n",
       "      <td>03:43:00</td>\n",
       "      <td>2022</td>\n",
       "      <td>3</td>\n",
       "      <td>0.00</td>\n",
       "      <td>0.00</td>\n",
       "      <td>0</td>\n",
       "    </tr>\n",
       "    <tr>\n",
       "      <th>1</th>\n",
       "      <td>2022-03-01 03:41:00</td>\n",
       "      <td>BTC/USD</td>\n",
       "      <td>43018.23</td>\n",
       "      <td>43046.59</td>\n",
       "      <td>43018.23</td>\n",
       "      <td>43046.58</td>\n",
       "      <td>0.142977</td>\n",
       "      <td>6154.673021</td>\n",
       "      <td>2022-03-01</td>\n",
       "      <td>03:41:00</td>\n",
       "      <td>2022</td>\n",
       "      <td>3</td>\n",
       "      <td>-28.35</td>\n",
       "      <td>-28.36</td>\n",
       "      <td>0</td>\n",
       "    </tr>\n",
       "    <tr>\n",
       "      <th>2</th>\n",
       "      <td>2022-03-01 03:40:00</td>\n",
       "      <td>BTC/USD</td>\n",
       "      <td>43022.24</td>\n",
       "      <td>43022.24</td>\n",
       "      <td>43016.03</td>\n",
       "      <td>43016.03</td>\n",
       "      <td>0.009230</td>\n",
       "      <td>397.037957</td>\n",
       "      <td>2022-03-01</td>\n",
       "      <td>03:40:00</td>\n",
       "      <td>2022</td>\n",
       "      <td>3</td>\n",
       "      <td>6.21</td>\n",
       "      <td>-6.21</td>\n",
       "      <td>0</td>\n",
       "    </tr>\n",
       "    <tr>\n",
       "      <th>3</th>\n",
       "      <td>2022-03-01 03:39:00</td>\n",
       "      <td>BTC/USD</td>\n",
       "      <td>43035.16</td>\n",
       "      <td>43035.16</td>\n",
       "      <td>42999.44</td>\n",
       "      <td>42999.44</td>\n",
       "      <td>0.820950</td>\n",
       "      <td>35300.390268</td>\n",
       "      <td>2022-03-01</td>\n",
       "      <td>03:39:00</td>\n",
       "      <td>2022</td>\n",
       "      <td>3</td>\n",
       "      <td>35.72</td>\n",
       "      <td>-35.72</td>\n",
       "      <td>1</td>\n",
       "    </tr>\n",
       "    <tr>\n",
       "      <th>4</th>\n",
       "      <td>2022-03-01 03:38:00</td>\n",
       "      <td>BTC/USD</td>\n",
       "      <td>43077.82</td>\n",
       "      <td>43077.82</td>\n",
       "      <td>43049.46</td>\n",
       "      <td>43049.46</td>\n",
       "      <td>0.022210</td>\n",
       "      <td>956.143143</td>\n",
       "      <td>2022-03-01</td>\n",
       "      <td>03:38:00</td>\n",
       "      <td>2022</td>\n",
       "      <td>3</td>\n",
       "      <td>28.36</td>\n",
       "      <td>-28.36</td>\n",
       "      <td>1</td>\n",
       "    </tr>\n",
       "  </tbody>\n",
       "</table>\n",
       "</div>"
      ],
      "text/plain": [
       "                  date   symbol      open      high       low     close  \\\n",
       "0  2022-03-01 03:43:00  BTC/USD  43046.58  43046.58  43046.58  43046.58   \n",
       "1  2022-03-01 03:41:00  BTC/USD  43018.23  43046.59  43018.23  43046.58   \n",
       "2  2022-03-01 03:40:00  BTC/USD  43022.24  43022.24  43016.03  43016.03   \n",
       "3  2022-03-01 03:39:00  BTC/USD  43035.16  43035.16  42999.44  42999.44   \n",
       "4  2022-03-01 03:38:00  BTC/USD  43077.82  43077.82  43049.46  43049.46   \n",
       "\n",
       "   Volume BTC     Volume USD       Dates      Time  year  month  open-close  \\\n",
       "0    3.165254  138947.357197  2022-03-01  03:43:00  2022      3        0.00   \n",
       "1    0.142977    6154.673021  2022-03-01  03:41:00  2022      3      -28.35   \n",
       "2    0.009230     397.037957  2022-03-01  03:40:00  2022      3        6.21   \n",
       "3    0.820950   35300.390268  2022-03-01  03:39:00  2022      3       35.72   \n",
       "4    0.022210     956.143143  2022-03-01  03:38:00  2022      3       28.36   \n",
       "\n",
       "   low-high  target  \n",
       "0      0.00       0  \n",
       "1    -28.36       0  \n",
       "2     -6.21       0  \n",
       "3    -35.72       1  \n",
       "4    -28.36       1  "
      ]
     },
     "execution_count": 37,
     "metadata": {},
     "output_type": "execute_result"
    }
   ],
   "source": [
    "bs['open-close']=bs['open']-bs['close']\n",
    "bs['low-high']=bs['low']-bs['high']\n",
    "bs['target']=np.where(bs['close'].shift(-1)>bs['close'],1,0)\n",
    "bs.head()\n"
   ]
  },
  {
   "cell_type": "code",
   "execution_count": 38,
   "id": "1f860b5e",
   "metadata": {},
   "outputs": [
    {
     "data": {
      "image/png": "[encoded data removed]",
      "text/plain": [
       "<Figure size 640x480 with 1 Axes>"
      ]
     },
     "metadata": {},
     "output_type": "display_data"
    }
   ],
   "source": [
    "plt.pie(bs['target'].value_counts().values, labels=[0,1], autopct='%1.1f%%')\n",
    "plt.show()"
   ]
  },
  {
   "cell_type": "code",
   "execution_count": 39,
   "id": "cbe8a04d",
   "metadata": {},
   "outputs": [
    {
     "data": {
      "image/png": "[encoded data removed]",
      "text/plain": [
       "<Figure size 640x480 with 1 Axes>"
      ]
     },
     "metadata": {},
     "output_type": "display_data"
    }
   ],
   "source": [
    "plt.scatter(bs['open-close'],bs['low-high'],c='y')\n",
    "plt.show()\n"
   ]
  },
  {
   "cell_type": "code",
   "execution_count": 40,
   "id": "898c46df",
   "metadata": {},
   "outputs": [
    {
     "data": {
      "text/plain": [
       "<AxesSubplot:ylabel='Frequency'>"
      ]
     },
     "execution_count": 40,
     "metadata": {},
     "output_type": "execute_result"
    },
    {
     "data": {
      "image/png": "[encoded data removed]",
      "text/plain": [
       "<Figure size 640x480 with 1 Axes>"
      ]
     },
     "metadata": {},
     "output_type": "display_data"
    }
   ],
   "source": [
    "bs.plot( x='Volume USD', y='target', kind='hist')\n"
   ]
  },
  {
   "cell_type": "code",
   "execution_count": 41,
   "id": "e9bddd42",
   "metadata": {},
   "outputs": [
    {
     "data": {
      "image/png": "[encoded data removed]",
      "text/plain": [
       "<Figure size 1000x1000 with 1 Axes>"
      ]
     },
     "metadata": {},
     "output_type": "display_data"
    }
   ],
   "source": [
    "plt.figure(figsize=(10,10))\n",
    "sns.heatmap(bs.corr()>0.9, annot=True, cbar=False)\n",
    "plt.show()\n"
   ]
  },
  {
   "cell_type": "code",
   "execution_count": 42,
   "id": "9a666fab",
   "metadata": {},
   "outputs": [],
   "source": [
    "from sklearn.preprocessing import StandardScaler"
   ]
  },
  {
   "cell_type": "code",
   "execution_count": 43,
   "id": "eb86a9d1",
   "metadata": {},
   "outputs": [],
   "source": [
    "X=bs[['open-close','low-high']]\n",
    "Y=bs['target']"
   ]
  },
  {
   "cell_type": "code",
   "execution_count": 44,
   "id": "3a691118",
   "metadata": {},
   "outputs": [
    {
     "data": {
      "text/html": [
       "<div>\n",
       "<style scoped>\n",
       "    .dataframe tbody tr th:only-of-type {\n",
       "        vertical-align: middle;\n",
       "    }\n",
       "\n",
       "    .dataframe tbody tr th {\n",
       "        vertical-align: top;\n",
       "    }\n",
       "\n",
       "    .dataframe thead th {\n",
       "        text-align: right;\n",
       "    }\n",
       "</style>\n",
       "<table border=\"1\" class=\"dataframe\">\n",
       "  <thead>\n",
       "    <tr style=\"text-align: right;\">\n",
       "      <th></th>\n",
       "      <th>date</th>\n",
       "      <th>symbol</th>\n",
       "      <th>open</th>\n",
       "      <th>high</th>\n",
       "      <th>low</th>\n",
       "      <th>close</th>\n",
       "      <th>Volume BTC</th>\n",
       "      <th>Volume USD</th>\n",
       "      <th>Dates</th>\n",
       "      <th>Time</th>\n",
       "      <th>year</th>\n",
       "      <th>month</th>\n",
       "      <th>open-close</th>\n",
       "      <th>low-high</th>\n",
       "      <th>target</th>\n",
       "    </tr>\n",
       "  </thead>\n",
       "  <tbody>\n",
       "    <tr>\n",
       "      <th>0</th>\n",
       "      <td>2022-03-01 03:43:00</td>\n",
       "      <td>BTC/USD</td>\n",
       "      <td>43046.58</td>\n",
       "      <td>43046.58</td>\n",
       "      <td>43046.58</td>\n",
       "      <td>43046.58</td>\n",
       "      <td>3.165254</td>\n",
       "      <td>138947.357197</td>\n",
       "      <td>2022-03-01</td>\n",
       "      <td>03:43:00</td>\n",
       "      <td>2022</td>\n",
       "      <td>3</td>\n",
       "      <td>0.00</td>\n",
       "      <td>0.00</td>\n",
       "      <td>0</td>\n",
       "    </tr>\n",
       "    <tr>\n",
       "      <th>1</th>\n",
       "      <td>2022-03-01 03:41:00</td>\n",
       "      <td>BTC/USD</td>\n",
       "      <td>43018.23</td>\n",
       "      <td>43046.59</td>\n",
       "      <td>43018.23</td>\n",
       "      <td>43046.58</td>\n",
       "      <td>0.142977</td>\n",
       "      <td>6154.673021</td>\n",
       "      <td>2022-03-01</td>\n",
       "      <td>03:41:00</td>\n",
       "      <td>2022</td>\n",
       "      <td>3</td>\n",
       "      <td>-28.35</td>\n",
       "      <td>-28.36</td>\n",
       "      <td>0</td>\n",
       "    </tr>\n",
       "    <tr>\n",
       "      <th>2</th>\n",
       "      <td>2022-03-01 03:40:00</td>\n",
       "      <td>BTC/USD</td>\n",
       "      <td>43022.24</td>\n",
       "      <td>43022.24</td>\n",
       "      <td>43016.03</td>\n",
       "      <td>43016.03</td>\n",
       "      <td>0.009230</td>\n",
       "      <td>397.037957</td>\n",
       "      <td>2022-03-01</td>\n",
       "      <td>03:40:00</td>\n",
       "      <td>2022</td>\n",
       "      <td>3</td>\n",
       "      <td>6.21</td>\n",
       "      <td>-6.21</td>\n",
       "      <td>0</td>\n",
       "    </tr>\n",
       "    <tr>\n",
       "      <th>3</th>\n",
       "      <td>2022-03-01 03:39:00</td>\n",
       "      <td>BTC/USD</td>\n",
       "      <td>43035.16</td>\n",
       "      <td>43035.16</td>\n",
       "      <td>42999.44</td>\n",
       "      <td>42999.44</td>\n",
       "      <td>0.820950</td>\n",
       "      <td>35300.390268</td>\n",
       "      <td>2022-03-01</td>\n",
       "      <td>03:39:00</td>\n",
       "      <td>2022</td>\n",
       "      <td>3</td>\n",
       "      <td>35.72</td>\n",
       "      <td>-35.72</td>\n",
       "      <td>1</td>\n",
       "    </tr>\n",
       "    <tr>\n",
       "      <th>4</th>\n",
       "      <td>2022-03-01 03:38:00</td>\n",
       "      <td>BTC/USD</td>\n",
       "      <td>43077.82</td>\n",
       "      <td>43077.82</td>\n",
       "      <td>43049.46</td>\n",
       "      <td>43049.46</td>\n",
       "      <td>0.022210</td>\n",
       "      <td>956.143143</td>\n",
       "      <td>2022-03-01</td>\n",
       "      <td>03:38:00</td>\n",
       "      <td>2022</td>\n",
       "      <td>3</td>\n",
       "      <td>28.36</td>\n",
       "      <td>-28.36</td>\n",
       "      <td>1</td>\n",
       "    </tr>\n",
       "  </tbody>\n",
       "</table>\n",
       "</div>"
      ],
      "text/plain": [
       "                  date   symbol      open      high       low     close  \\\n",
       "0  2022-03-01 03:43:00  BTC/USD  43046.58  43046.58  43046.58  43046.58   \n",
       "1  2022-03-01 03:41:00  BTC/USD  43018.23  43046.59  43018.23  43046.58   \n",
       "2  2022-03-01 03:40:00  BTC/USD  43022.24  43022.24  43016.03  43016.03   \n",
       "3  2022-03-01 03:39:00  BTC/USD  43035.16  43035.16  42999.44  42999.44   \n",
       "4  2022-03-01 03:38:00  BTC/USD  43077.82  43077.82  43049.46  43049.46   \n",
       "\n",
       "   Volume BTC     Volume USD       Dates      Time  year  month  open-close  \\\n",
       "0    3.165254  138947.357197  2022-03-01  03:43:00  2022      3        0.00   \n",
       "1    0.142977    6154.673021  2022-03-01  03:41:00  2022      3      -28.35   \n",
       "2    0.009230     397.037957  2022-03-01  03:40:00  2022      3        6.21   \n",
       "3    0.820950   35300.390268  2022-03-01  03:39:00  2022      3       35.72   \n",
       "4    0.022210     956.143143  2022-03-01  03:38:00  2022      3       28.36   \n",
       "\n",
       "   low-high  target  \n",
       "0      0.00       0  \n",
       "1    -28.36       0  \n",
       "2     -6.21       0  \n",
       "3    -35.72       1  \n",
       "4    -28.36       1  "
      ]
     },
     "execution_count": 44,
     "metadata": {},
     "output_type": "execute_result"
    }
   ],
   "source": [
    "scaler=StandardScaler()\n",
    "X=scaler.fit_transform(X)\n",
    "bs.head()"
   ]
  },
  {
   "cell_type": "markdown",
   "id": "80c87187",
   "metadata": {},
   "source": [
    "# Model Implementation"
   ]
  },
  {
   "cell_type": "code",
   "execution_count": 45,
   "id": "6c6a2a0f",
   "metadata": {},
   "outputs": [],
   "source": [
    "from sklearn.model_selection import train_test_split\n",
    "X_train,X_test,Y_train,Y_test=train_test_split(X,Y,test_size=0.3,random_state=2021)\n"
   ]
  },
  {
   "cell_type": "code",
   "execution_count": 46,
   "id": "27146628",
   "metadata": {},
   "outputs": [],
   "source": [
    "from sklearn.linear_model import LinearRegression\n",
    "from sklearn.tree import DecisionTreeRegressor\n",
    "from sklearn.ensemble import RandomForestRegressor"
   ]
  },
  {
   "cell_type": "code",
   "execution_count": 47,
   "id": "d67223b2",
   "metadata": {},
   "outputs": [
    {
     "data": {
      "text/plain": [
       "array([[-0.22813361,  0.38664325],\n",
       "       [-0.68893551, -0.04980973],\n",
       "       [-0.4393655 ,  0.5026131 ],\n",
       "       ...,\n",
       "       [-0.22571422,  0.61892156],\n",
       "       [ 0.96723414,  0.06819171],\n",
       "       [ 0.11877056,  0.63652866]])"
      ]
     },
     "execution_count": 47,
     "metadata": {},
     "output_type": "execute_result"
    }
   ],
   "source": [
    "X_train"
   ]
  },
  {
   "cell_type": "code",
   "execution_count": 48,
   "id": "803bd718",
   "metadata": {},
   "outputs": [
    {
     "data": {
      "text/plain": [
       "array([[-0.30294878,  0.35092115],\n",
       "       [-0.00834079,  0.19398092],\n",
       "       [-0.01578508,  0.8466288 ],\n",
       "       ...,\n",
       "       [ 0.43180319,  0.39781699],\n",
       "       [-0.2203171 , -0.35048486],\n",
       "       [ 0.00208123,  0.11678054]])"
      ]
     },
     "execution_count": 48,
     "metadata": {},
     "output_type": "execute_result"
    }
   ],
   "source": [
    "X_test"
   ]
  },
  {
   "cell_type": "code",
   "execution_count": 49,
   "id": "f871fa6f",
   "metadata": {},
   "outputs": [
    {
     "data": {
      "text/plain": [
       "204914    0\n",
       "107712    0\n",
       "25675     0\n",
       "552145    0\n",
       "565838    0\n",
       "         ..\n",
       "423980    1\n",
       "133741    0\n",
       "476288    0\n",
       "224597    1\n",
       "91252     1\n",
       "Name: target, Length: 427547, dtype: int32"
      ]
     },
     "execution_count": 49,
     "metadata": {},
     "output_type": "execute_result"
    }
   ],
   "source": [
    "Y_train"
   ]
  },
  {
   "cell_type": "code",
   "execution_count": 50,
   "id": "c945f42b",
   "metadata": {},
   "outputs": [
    {
     "data": {
      "text/plain": [
       "605253    0\n",
       "277510    1\n",
       "88836     1\n",
       "489411    1\n",
       "137498    0\n",
       "         ..\n",
       "344181    1\n",
       "579540    1\n",
       "575507    1\n",
       "447447    0\n",
       "600134    1\n",
       "Name: target, Length: 183235, dtype: int32"
      ]
     },
     "execution_count": 50,
     "metadata": {},
     "output_type": "execute_result"
    }
   ],
   "source": [
    "Y_test"
   ]
  },
  {
   "cell_type": "code",
   "execution_count": 51,
   "id": "4059c340",
   "metadata": {},
   "outputs": [
    {
     "name": "stdout",
     "output_type": "stream",
     "text": [
      "(427547, 2)\n"
     ]
    }
   ],
   "source": [
    "print(X_train.shape)"
   ]
  },
  {
   "cell_type": "code",
   "execution_count": 52,
   "id": "cc53b4d3",
   "metadata": {},
   "outputs": [
    {
     "name": "stdout",
     "output_type": "stream",
     "text": [
      "(183235, 2)\n"
     ]
    }
   ],
   "source": [
    "print(X_test.shape)"
   ]
  },
  {
   "cell_type": "markdown",
   "id": "699a19b0",
   "metadata": {},
   "source": [
    "# Linear Regression"
   ]
  },
  {
   "cell_type": "code",
   "execution_count": 61,
   "id": "eb33f2a5",
   "metadata": {},
   "outputs": [
    {
     "data": {
      "text/plain": [
       "LinearRegression()"
      ]
     },
     "execution_count": 61,
     "metadata": {},
     "output_type": "execute_result"
    }
   ],
   "source": [
    "model=LinearRegression()\n",
    "model.fit(X_train,Y_train)\n",
    "predicted_train_model=(model.predict(X_train))\n",
    "predicted_test_model=(model.predict(X_test))\n",
    "model\n"
   ]
  },
  {
   "cell_type": "markdown",
   "id": "987fe4de",
   "metadata": {},
   "source": [
    "## Random Forest"
   ]
  },
  {
   "cell_type": "code",
   "execution_count": 54,
   "id": "1125fb51",
   "metadata": {},
   "outputs": [
    {
     "data": {
      "text/plain": [
       "RandomForestRegressor(max_depth=5, min_samples_split=4, random_state=0)"
      ]
     },
     "execution_count": 54,
     "metadata": {},
     "output_type": "execute_result"
    }
   ],
   "source": [
    "regressor=RandomForestRegressor(random_state=0,\n",
    "                                n_estimators=100,\n",
    "                                max_depth=5,\n",
    "                                min_samples_split=4,\n",
    "                                bootstrap=True)\n",
    "regressor.fit(X_train,Y_train)\n",
    "predicted_train_regressor=(regressor.predict(X_train))\n",
    "predicted_test_regressor=(regressor.predict(X_test))\n"
   ]
  },
  {
   "cell_type": "markdown",
   "id": "61df6636",
   "metadata": {},
   "source": [
    "## Decision Tree"
   ]
  },
  {
   "cell_type": "code",
   "execution_count": 60,
   "id": "79846f46",
   "metadata": {},
   "outputs": [
    {
     "data": {
      "text/plain": [
       "DecisionTreeRegressor(random_state=0)"
      ]
     },
     "execution_count": 60,
     "metadata": {},
     "output_type": "execute_result"
    }
   ],
   "source": [
    "tree=DecisionTreeRegressor(random_state=0\n",
    "                            )\n",
    "tree.fit(X_train,Y_train)\n",
    "predicted_train_tree=(tree.predict(X_train))\n",
    "predicted_test_tree=(tree.predict(X_test))\n",
    "tree\n"
   ]
  },
  {
   "cell_type": "markdown",
   "id": "c7ca4266",
   "metadata": {},
   "source": [
    "# Model Evaluation"
   ]
  },
  {
   "cell_type": "code",
   "execution_count": 56,
   "id": "a8f42570",
   "metadata": {},
   "outputs": [],
   "source": [
    "from sklearn.metrics import mean_absolute_error\n",
    "from sklearn.metrics import mean_squared_error"
   ]
  },
  {
   "cell_type": "markdown",
   "id": "505adf6a",
   "metadata": {},
   "source": [
    "## For Linear regression"
   ]
  },
  {
   "cell_type": "code",
   "execution_count": 63,
   "id": "d035f2bc",
   "metadata": {},
   "outputs": [
    {
     "name": "stdout",
     "output_type": "stream",
     "text": [
      " Training DataSet \n",
      " Mean absolute error :     0.37424266954119983\n",
      " Mean squared error :      0.16969508576005138\n",
      " Root mean squared error:  0.4119406337811935\n"
     ]
    }
   ],
   "source": [
    "print(\" Training DataSet \")\n",
    "print(\" Mean absolute error :    \",mean_absolute_error(Y_train,predicted_train_model))\n",
    "print(\" Mean squared error :     \",mean_squared_error(Y_train,predicted_train_model))\n",
    "print(\" Root mean squared error: \",np.sqrt(mean_squared_error(Y_train,predicted_train_model)))\n"
   ]
  },
  {
   "cell_type": "code",
   "execution_count": 64,
   "id": "afc60130",
   "metadata": {},
   "outputs": [
    {
     "name": "stdout",
     "output_type": "stream",
     "text": [
      " Testing DataSet \n",
      " Mean absolute error :     0.374233989170023\n",
      " Mean squared error :      0.16975174108900593\n",
      " Root mean squared error:  0.4120093944183869\n"
     ]
    }
   ],
   "source": [
    "print(\" Testing DataSet \")\n",
    "print(\" Mean absolute error :    \",mean_absolute_error(Y_test,predicted_test_model))\n",
    "print(\" Mean squared error :     \",mean_squared_error(Y_test,predicted_test_model))\n",
    "print(\" Root mean squared error: \",np.sqrt(mean_squared_error(Y_test,predicted_test_model)))\n"
   ]
  },
  {
   "cell_type": "markdown",
   "id": "5a83d298",
   "metadata": {},
   "source": [
    "## For Randomforest"
   ]
  },
  {
   "cell_type": "code",
   "execution_count": 57,
   "id": "e71590c4",
   "metadata": {},
   "outputs": [
    {
     "name": "stdout",
     "output_type": "stream",
     "text": [
      " Training DataSet \n",
      " Mean absolute error :     0.2209647653071944\n",
      " Mean squared error :      0.1103901538214079\n",
      " Root mean squared error:  0.3322501374287269\n"
     ]
    }
   ],
   "source": [
    "print(\" Training DataSet \")\n",
    "print(\" Mean absolute error :    \",mean_absolute_error(Y_train,predicted_train_regressor))\n",
    "print(\" Mean squared error :     \",mean_squared_error(Y_train,predicted_train_regressor))\n",
    "print(\" Root mean squared error: \",np.sqrt(mean_squared_error(Y_train,predicted_train_regressor)))\n"
   ]
  },
  {
   "cell_type": "code",
   "execution_count": 58,
   "id": "c34454a7",
   "metadata": {},
   "outputs": [
    {
     "name": "stdout",
     "output_type": "stream",
     "text": [
      " Testing DataSet \n",
      " Mean absolute error :     0.22079892212130936\n",
      " Mean squared error :      0.11039704146428699\n",
      " Root mean squared error:  0.3322605024138244\n"
     ]
    }
   ],
   "source": [
    "print(\" Testing DataSet \")\n",
    "print(\" Mean absolute error :    \",mean_absolute_error(Y_test,predicted_test_regressor))\n",
    "print(\" Mean squared error :     \",mean_squared_error(Y_test,predicted_test_regressor))\n",
    "print(\" Root mean squared error: \",np.sqrt(mean_squared_error(Y_test,predicted_test_regressor)))\n"
   ]
  },
  {
   "cell_type": "markdown",
   "id": "416d96d7",
   "metadata": {},
   "source": [
    "## For DecisionTree"
   ]
  },
  {
   "cell_type": "code",
   "execution_count": 65,
   "id": "6ae18d45",
   "metadata": {},
   "outputs": [
    {
     "name": "stdout",
     "output_type": "stream",
     "text": [
      " Training DataSet \n",
      " Mean absolute error :     0.043450241466681194\n",
      " Mean squared error :      0.021725120733340604\n",
      " Root mean squared error:  0.14739443928907428\n"
     ]
    }
   ],
   "source": [
    "print(\" Training DataSet \")\n",
    "print(\" Mean absolute error :    \",mean_absolute_error(Y_train,predicted_train_tree))\n",
    "print(\" Mean squared error :     \",mean_squared_error(Y_train,predicted_train_tree))\n",
    "print(\" Root mean squared error: \",np.sqrt(mean_squared_error(Y_train,predicted_train_tree)))\n"
   ]
  },
  {
   "cell_type": "code",
   "execution_count": 66,
   "id": "9162e2bd",
   "metadata": {},
   "outputs": [
    {
     "name": "stdout",
     "output_type": "stream",
     "text": [
      " Testing DataSet \n",
      " Mean absolute error :     0.22292931547366834\n",
      " Mean squared error :      0.20168473691217903\n",
      " Root mean squared error:  0.4490932385509484\n"
     ]
    }
   ],
   "source": [
    "print(\" Testing DataSet \")\n",
    "print(\" Mean absolute error :    \",mean_absolute_error(Y_test,predicted_test_tree))\n",
    "print(\" Mean squared error :     \",mean_squared_error(Y_test,predicted_test_tree))\n",
    "print(\" Root mean squared error: \",np.sqrt(mean_squared_error(Y_test,predicted_test_tree)))\n"
   ]
  },
  {
   "cell_type": "markdown",
   "id": "6bab480e",
   "metadata": {},
   "source": [
    "# Overfitting and Cross-validation"
   ]
  },
  {
   "cell_type": "code",
   "execution_count": 67,
   "id": "4142b4e6",
   "metadata": {},
   "outputs": [
    {
     "name": "stdout",
     "output_type": "stream",
     "text": [
      " Accuracy on training data set\n",
      " Accuracy on Linear Regressor training data set :          0.32114601691671374\n",
      " Accuracy on Random Forest Regressor training data set :  0.5583914803472697\n"
     ]
    }
   ],
   "source": [
    "print(\" Accuracy on training data set\")\n",
    "print(\" Accuracy on Linear Regressor training data set :         \",model.score(X_train,Y_train))\n",
    "print(\" Accuracy on Random Forest Regressor training data set : \",regressor.score(X_train,Y_train))\n",
    "acc_rr_train  = model.score(X_train,Y_train)\n",
    "acc_rfr_train = regressor.score(X_train,Y_train)"
   ]
  },
  {
   "cell_type": "code",
   "execution_count": 68,
   "id": "cd22bdaf",
   "metadata": {},
   "outputs": [
    {
     "name": "stdout",
     "output_type": "stream",
     "text": [
      " Accuracy on test data set\n",
      " Accuracy on Linear Regressor test data set :          0.3208982300859782\n",
      " Accuracy on Random Forest Regressor test data set :  0.558350177908576\n"
     ]
    }
   ],
   "source": [
    "print(\" Accuracy on test data set\")\n",
    "print(\" Accuracy on Linear Regressor test data set :         \",model.score(X_test,Y_test))\n",
    "print(\" Accuracy on Random Forest Regressor test data set : \",regressor.score(X_test,Y_test))\n",
    "acc_rr_test=model.score(X_test,Y_test)\n",
    "acc_rfr_test=regressor.score(X_test,Y_test)"
   ]
  },
  {
   "cell_type": "code",
   "execution_count": 69,
   "id": "c05f2978",
   "metadata": {},
   "outputs": [
    {
     "name": "stdout",
     "output_type": "stream",
     "text": [
      "LINEAR REGRESSION MODEL IS NOT OVERFITTED!\n"
     ]
    }
   ],
   "source": [
    "if acc_rr_train > acc_rr_test:\n",
    "    print('LINEAR REGRESSION MODEL IS NOT OVERFITTED!')\n",
    "else:\n",
    "    print( 'LINEAR REGRESSION MODEL IS OVERFITTED')"
   ]
  },
  {
   "cell_type": "code",
   "execution_count": 70,
   "id": "2845c659",
   "metadata": {},
   "outputs": [
    {
     "name": "stdout",
     "output_type": "stream",
     "text": [
      "RANDOMFOREST REGRESSOR MODEL IS NOT OVERFITTED!\n"
     ]
    }
   ],
   "source": [
    "if acc_rfr_train > acc_rfr_test:\n",
    "    print('RANDOMFOREST REGRESSOR MODEL IS NOT OVERFITTED!')\n",
    "else:\n",
    "    print( 'RANDOMFOREST REGRESSOR MODEL IS OVERFITTED')"
   ]
  },
  {
   "cell_type": "code",
   "execution_count": null,
   "id": "c38075b0",
   "metadata": {},
   "outputs": [],
   "source": []
  }
 ],
 "metadata": {
  "kernelspec": {
   "display_name": "venv",
   "language": "python",
   "name": "venv"
  },
  "language_info": {
   "codemirror_mode": {
    "name": "ipython",
    "version": 3
   },
   "file_extension": ".py",
   "mimetype": "text/x-python",
   "name": "python",
   "nbconvert_exporter": "python",
   "pygments_lexer": "ipython3",
   "version": "3.7.8"
  }
 },
 "nbformat": 4,
 "nbformat_minor": 5
}
